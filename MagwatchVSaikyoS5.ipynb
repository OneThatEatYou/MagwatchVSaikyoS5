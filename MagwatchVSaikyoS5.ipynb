{
 "cells": [
  {
   "cell_type": "code",
   "execution_count": 1,
   "metadata": {},
   "outputs": [],
   "source": [
    "import pandas as pd\n",
    "import plotly.graph_objects as go\n",
    "import plotly.express as px"
   ]
  },
  {
   "cell_type": "code",
   "execution_count": null,
   "metadata": {},
   "outputs": [],
   "source": [
    "# colour blind palette\n",
    "colour_palette = [\"#e69f00\", \"#56b4e9\", \"#009e74\", \"#f0e442\", \"#0072b2\", \"#d55e00\", \"#cc79a7\"]"
   ]
  },
  {
   "cell_type": "code",
   "execution_count": 2,
   "metadata": {},
   "outputs": [],
   "source": [
    "# loads in scrim day data for the specified day\n",
    "def load_day_data(day_num):\n",
    "    file_name = f\"data/MagwatchVSaikyoS5_SD{day_num}.csv\"\n",
    "    print(f\"Reading {file_name}\")\n",
    "    df = pd.read_csv(file_name, encoding=\"latin-1\")\n",
    "    # add the Day column\n",
    "    df.insert(0, \"Day\", day_num)\n",
    "    return df"
   ]
  },
  {
   "cell_type": "code",
   "execution_count": 3,
   "metadata": {},
   "outputs": [
    {
     "name": "stdout",
     "output_type": "stream",
     "text": [
      "Reading data/MagwatchVSaikyoS5_SD1.csv\n",
      "Reading data/MagwatchVSaikyoS5_SD2.csv\n",
      "Reading data/MagwatchVSaikyoS5_SD3.csv\n",
      "Reading data/MagwatchVSaikyoS5_SD4.csv\n",
      "Reading data/MagwatchVSaikyoS5_SD5.csv\n",
      "Reading data/MagwatchVSaikyoS5_SD6.csv\n"
     ]
    },
    {
     "data": {
      "text/html": [
       "<div>\n",
       "<style scoped>\n",
       "    .dataframe tbody tr th:only-of-type {\n",
       "        vertical-align: middle;\n",
       "    }\n",
       "\n",
       "    .dataframe tbody tr th {\n",
       "        vertical-align: top;\n",
       "    }\n",
       "\n",
       "    .dataframe thead th {\n",
       "        text-align: right;\n",
       "    }\n",
       "</style>\n",
       "<table border=\"1\" class=\"dataframe\">\n",
       "  <thead>\n",
       "    <tr style=\"text-align: right;\">\n",
       "      <th></th>\n",
       "      <th>Day</th>\n",
       "      <th>Game</th>\n",
       "      <th>Round</th>\n",
       "      <th>Ring Closing</th>\n",
       "      <th>Time Remaining</th>\n",
       "      <th>Time Stamp Value</th>\n",
       "      <th>Match Elapsed</th>\n",
       "      <th>Hit</th>\n",
       "      <th>Target</th>\n",
       "      <th>Target Team</th>\n",
       "      <th>Comments</th>\n",
       "      <th>Unnamed: 10</th>\n",
       "    </tr>\n",
       "  </thead>\n",
       "  <tbody>\n",
       "    <tr>\n",
       "      <th>0</th>\n",
       "      <td>1</td>\n",
       "      <td>1</td>\n",
       "      <td>2</td>\n",
       "      <td>No</td>\n",
       "      <td>2:29</td>\n",
       "      <td>587</td>\n",
       "      <td>442</td>\n",
       "      <td>No</td>\n",
       "      <td>NaN</td>\n",
       "      <td>NaN</td>\n",
       "      <td>VS. Jewel Box</td>\n",
       "      <td>NaN</td>\n",
       "    </tr>\n",
       "    <tr>\n",
       "      <th>1</th>\n",
       "      <td>1</td>\n",
       "      <td>1</td>\n",
       "      <td>2</td>\n",
       "      <td>No</td>\n",
       "      <td>2:03</td>\n",
       "      <td>613</td>\n",
       "      <td>468</td>\n",
       "      <td>No</td>\n",
       "      <td>NaN</td>\n",
       "      <td>NaN</td>\n",
       "      <td>NaN</td>\n",
       "      <td>NaN</td>\n",
       "    </tr>\n",
       "    <tr>\n",
       "      <th>2</th>\n",
       "      <td>1</td>\n",
       "      <td>1</td>\n",
       "      <td>2</td>\n",
       "      <td>No</td>\n",
       "      <td>1:04</td>\n",
       "      <td>673</td>\n",
       "      <td>528</td>\n",
       "      <td>Yes</td>\n",
       "      <td>Tsuna Nekota</td>\n",
       "      <td>Jewel Box</td>\n",
       "      <td>First friend lost: his CR Cup 10 teammate</td>\n",
       "      <td>NaN</td>\n",
       "    </tr>\n",
       "    <tr>\n",
       "      <th>3</th>\n",
       "      <td>1</td>\n",
       "      <td>1</td>\n",
       "      <td>2</td>\n",
       "      <td>Yes</td>\n",
       "      <td>0:08</td>\n",
       "      <td>803</td>\n",
       "      <td>658</td>\n",
       "      <td>No</td>\n",
       "      <td>NaN</td>\n",
       "      <td>NaN</td>\n",
       "      <td>NaN</td>\n",
       "      <td>NaN</td>\n",
       "    </tr>\n",
       "    <tr>\n",
       "      <th>4</th>\n",
       "      <td>1</td>\n",
       "      <td>1</td>\n",
       "      <td>3</td>\n",
       "      <td>No</td>\n",
       "      <td>1:32</td>\n",
       "      <td>854</td>\n",
       "      <td>709</td>\n",
       "      <td>No</td>\n",
       "      <td>NaN</td>\n",
       "      <td>NaN</td>\n",
       "      <td>VS. Epicenter, Make Way and Dekani9</td>\n",
       "      <td>NaN</td>\n",
       "    </tr>\n",
       "  </tbody>\n",
       "</table>\n",
       "</div>"
      ],
      "text/plain": [
       "   Day  Game  Round Ring Closing Time Remaining  Time Stamp Value  \\\n",
       "0    1     1      2           No           2:29               587   \n",
       "1    1     1      2           No           2:03               613   \n",
       "2    1     1      2           No           1:04               673   \n",
       "3    1     1      2          Yes           0:08               803   \n",
       "4    1     1      3           No           1:32               854   \n",
       "\n",
       "   Match Elapsed  Hit        Target Target Team  \\\n",
       "0            442   No           NaN         NaN   \n",
       "1            468   No           NaN         NaN   \n",
       "2            528  Yes  Tsuna Nekota   Jewel Box   \n",
       "3            658   No           NaN         NaN   \n",
       "4            709   No           NaN         NaN   \n",
       "\n",
       "                                    Comments Unnamed: 10  \n",
       "0                              VS. Jewel Box         NaN  \n",
       "1                                        NaN         NaN  \n",
       "2  First friend lost: his CR Cup 10 teammate         NaN  \n",
       "3                                        NaN         NaN  \n",
       "4        VS. Epicenter, Make Way and Dekani9         NaN  "
      ]
     },
     "execution_count": 3,
     "metadata": {},
     "output_type": "execute_result"
    }
   ],
   "source": [
    "# load in all the scrim data\n",
    "dfs_sd = []\n",
    "from_day = 1\n",
    "to_day = 6\n",
    "\n",
    "for i in range(from_day, to_day+1):\n",
    "    df = load_day_data(i)\n",
    "    dfs_sd.append(df)\n",
    "\n",
    "df_appended = pd.concat(dfs_sd)\n",
    "df_appended.head()"
   ]
  },
  {
   "cell_type": "code",
   "execution_count": 18,
   "metadata": {},
   "outputs": [
    {
     "data": {
      "text/html": [
       "<div>\n",
       "<style scoped>\n",
       "    .dataframe tbody tr th:only-of-type {\n",
       "        vertical-align: middle;\n",
       "    }\n",
       "\n",
       "    .dataframe tbody tr th {\n",
       "        vertical-align: top;\n",
       "    }\n",
       "\n",
       "    .dataframe thead th {\n",
       "        text-align: right;\n",
       "    }\n",
       "</style>\n",
       "<table border=\"1\" class=\"dataframe\">\n",
       "  <thead>\n",
       "    <tr style=\"text-align: right;\">\n",
       "      <th></th>\n",
       "      <th>Team Name</th>\n",
       "      <th>Leader</th>\n",
       "      <th>Member 1</th>\n",
       "      <th>Member 2</th>\n",
       "      <th>Coach</th>\n",
       "    </tr>\n",
       "  </thead>\n",
       "  <tbody>\n",
       "    <tr>\n",
       "      <th>0</th>\n",
       "      <td>StarReiDogs</td>\n",
       "      <td>Shirayuki Reid</td>\n",
       "      <td>Hoshikawa Sara</td>\n",
       "      <td>Aruse Inu</td>\n",
       "      <td>BobSappAim</td>\n",
       "    </tr>\n",
       "    <tr>\n",
       "      <th>1</th>\n",
       "      <td>Jewel Box</td>\n",
       "      <td>Tsuna Nekota</td>\n",
       "      <td>Tokoyami Towa</td>\n",
       "      <td>Yakumo Beni</td>\n",
       "      <td>Cpt</td>\n",
       "    </tr>\n",
       "    <tr>\n",
       "      <th>2</th>\n",
       "      <td>Kansai Genki Hoan Kyoukai</td>\n",
       "      <td>Honma Himawari</td>\n",
       "      <td>Shiina Yuika</td>\n",
       "      <td>Utai Meika</td>\n",
       "      <td>Mukai</td>\n",
       "    </tr>\n",
       "    <tr>\n",
       "      <th>3</th>\n",
       "      <td>Pink Brain</td>\n",
       "      <td>Hanabusa Lisa</td>\n",
       "      <td>Fura Kanato</td>\n",
       "      <td>Makaino Ririmu</td>\n",
       "      <td>YufuNa</td>\n",
       "    </tr>\n",
       "    <tr>\n",
       "      <th>4</th>\n",
       "      <td>Sadame Gaming</td>\n",
       "      <td>Ichinose Uruha</td>\n",
       "      <td>Komori Met</td>\n",
       "      <td>Ibrahim</td>\n",
       "      <td>uruca</td>\n",
       "    </tr>\n",
       "  </tbody>\n",
       "</table>\n",
       "</div>"
      ],
      "text/plain": [
       "                   Team Name          Leader        Member 1        Member 2  \\\n",
       "0                StarReiDogs  Shirayuki Reid  Hoshikawa Sara       Aruse Inu   \n",
       "1                  Jewel Box    Tsuna Nekota   Tokoyami Towa     Yakumo Beni   \n",
       "2  Kansai Genki Hoan Kyoukai  Honma Himawari    Shiina Yuika      Utai Meika   \n",
       "3                 Pink Brain   Hanabusa Lisa     Fura Kanato  Makaino Ririmu   \n",
       "4              Sadame Gaming  Ichinose Uruha      Komori Met         Ibrahim   \n",
       "\n",
       "        Coach  \n",
       "0  BobSappAim  \n",
       "1         Cpt  \n",
       "2       Mukai  \n",
       "3      YufuNa  \n",
       "4       uruca  "
      ]
     },
     "execution_count": 18,
     "metadata": {},
     "output_type": "execute_result"
    }
   ],
   "source": [
    "# load in team data (used later)\n",
    "df_teams = pd.read_csv(\"data/MagwatchVSaikyoS5_TeamSheet.csv\", encoding=\"latin-1\")\n",
    "df_teams.head()"
   ]
  },
  {
   "cell_type": "code",
   "execution_count": 253,
   "metadata": {},
   "outputs": [
    {
     "data": {
      "application/vnd.plotly.v1+json": {
       "config": {
        "plotlyServerURL": "https://plot.ly"
       },
       "data": [
        {
         "marker": {
          "color": "#009e74",
          "size": 20,
          "symbol": "circle"
         },
         "mode": "markers",
         "name": "Miss",
         "opacity": 0.5,
         "type": "scatter",
         "x": [
          7.366666666666666,
          7.8,
          10.966666666666667,
          11.816666666666666,
          13,
          14.05,
          15.683333333333334,
          17.05,
          18.916666666666668,
          10.616666666666667,
          13.183333333333334,
          14.416666666666666,
          15.116666666666667,
          16.3,
          18.716666666666665,
          10.166666666666666,
          10.866666666666667,
          12.783333333333333,
          13.35,
          15.15,
          16.316666666666666,
          16.716666666666665,
          9.75,
          10.483333333333333,
          10.883333333333333,
          10.35,
          11.183333333333334,
          14.166666666666666,
          14.8,
          9.166666666666666,
          8.75,
          10.116666666666667,
          12.916666666666666,
          13.833333333333334,
          9.15,
          5.733333333333333,
          12.533333333333333,
          12.1,
          12.666666666666666,
          13.266666666666667,
          14.383333333333333,
          14.75,
          16,
          16.783333333333335,
          17.383333333333333,
          18.983333333333334,
          6.9,
          7.35,
          11.483333333333333,
          11.916666666666666,
          3.5166666666666666,
          5.05,
          7.416666666666667,
          8.316666666666666,
          9.083333333333334,
          5,
          5.766666666666667,
          5.6,
          10.633333333333333,
          13.8,
          10.7,
          8.533333333333333,
          9.55,
          10,
          11.3,
          12.083333333333334,
          13.933333333333334,
          8.283333333333333,
          10.016666666666667,
          16.3,
          16.716666666666665,
          17.933333333333334,
          18.8,
          19.233333333333334,
          19.683333333333334,
          20.65,
          3.316666666666667,
          9.883333333333333,
          10.333333333333334,
          10.9,
          12.883333333333333,
          8.816666666666666,
          10.033333333333333,
          10.533333333333333,
          7.35,
          7.8,
          11.45,
          12.933333333333334,
          13.95,
          14.35,
          15.466666666666667,
          19.566666666666666,
          20.866666666666667,
          8.6,
          12.016666666666667,
          12.416666666666666,
          6.05,
          6.05,
          11.633333333333333,
          14.066666666666666,
          15.366666666666667,
          10.733333333333333,
          12.85,
          13.566666666666666,
          14.066666666666666,
          14.766666666666667,
          15.266666666666667,
          17.133333333333333,
          17.016666666666666,
          20.1,
          20.566666666666666,
          14.666666666666666,
          16.45,
          4.75,
          9.433333333333334,
          12.733333333333333,
          14.433333333333334,
          2.35,
          4.35,
          4.766666666666667,
          7.833333333333333,
          10.466666666666667,
          10.916666666666666,
          12.333333333333334,
          13.033333333333333,
          14.016666666666667,
          20.333333333333332,
          20.766666666666666
         ],
         "y": [
          1,
          1,
          1,
          1,
          1,
          1,
          1,
          1,
          1,
          1,
          1,
          1,
          1,
          1,
          1,
          1,
          1,
          1,
          1,
          1,
          1,
          1,
          1,
          1,
          1,
          1,
          1,
          1,
          1,
          1,
          2,
          2,
          2,
          2,
          2,
          2,
          2,
          2,
          2,
          2,
          2,
          2,
          2,
          2,
          2,
          2,
          2,
          2,
          2,
          2,
          2,
          2,
          3,
          3,
          3,
          3,
          3,
          3,
          3,
          3,
          3,
          3,
          3,
          3,
          3,
          3,
          3,
          4,
          4,
          4,
          4,
          4,
          4,
          4,
          4,
          4,
          5,
          5,
          5,
          5,
          5,
          5,
          5,
          5,
          5,
          5,
          5,
          5,
          5,
          5,
          5,
          5,
          5,
          5,
          5,
          5,
          5,
          5,
          5,
          5,
          5,
          6,
          6,
          6,
          6,
          6,
          6,
          6,
          6,
          6,
          6,
          6,
          6,
          6,
          6,
          6,
          6,
          6,
          6,
          6,
          6,
          6,
          6,
          6,
          6,
          6,
          6,
          6
         ]
        },
        {
         "marker": {
          "color": "#d55e00",
          "size": 24,
          "symbol": "hexagram"
         },
         "mode": "markers",
         "name": "Hit",
         "opacity": 0.7,
         "type": "scatter",
         "x": [
          8.8,
          15.05,
          13.65,
          16.65,
          16.65,
          16.65,
          7.066666666666666,
          11.4,
          11.4,
          15.65,
          15.65,
          15.65,
          12.833333333333334,
          13.666666666666666,
          13.666666666666666,
          10.733333333333333,
          12.166666666666666,
          5.833333333333333,
          8.216666666666667,
          9.766666666666667,
          10.533333333333333,
          8.716666666666667,
          5.266666666666667,
          6.5,
          6.916666666666667,
          6.916666666666667,
          10.216666666666667,
          11.383333333333333,
          11.733333333333333,
          13.15,
          13.95,
          12.316666666666666,
          15.05,
          9.566666666666666,
          9.566666666666666,
          13.883333333333333,
          11.633333333333333,
          11.633333333333333,
          11.633333333333333,
          9.8,
          9.8,
          9.8,
          15,
          9.133333333333333,
          10.733333333333333,
          12.666666666666666,
          13.433333333333334,
          13.433333333333334,
          12.083333333333334,
          17.583333333333332,
          19.683333333333334,
          19.683333333333334,
          19.683333333333334,
          14.016666666666667,
          9.266666666666667,
          12.266666666666667,
          6.833333333333333,
          10.166666666666666,
          10.616666666666667,
          11.05,
          16.366666666666667,
          18.133333333333333,
          21.316666666666666,
          8.683333333333334,
          9.5,
          9.5,
          9.833333333333334,
          9.833333333333334,
          9.883333333333333,
          12.016666666666667,
          14.916666666666666,
          5.833333333333333,
          12.616666666666667,
          12.616666666666667,
          13.05,
          13.05,
          13.583333333333334,
          13.583333333333334,
          14.066666666666666,
          14.066666666666666,
          15.25,
          15.25,
          16.466666666666665,
          16.466666666666665,
          9.966666666666667,
          16.45,
          16.45,
          17.966666666666665,
          17.966666666666665,
          13.15,
          14.616666666666667,
          14.616666666666667,
          15.816666666666666,
          16.3,
          16.3,
          16.3,
          17.533333333333335,
          17.533333333333335,
          17.533333333333335,
          18.4,
          18.933333333333334,
          18.933333333333334,
          19.366666666666667,
          19.366666666666667,
          19.366666666666667,
          9.566666666666666,
          9.566666666666666,
          10.233333333333333,
          10.666666666666666,
          14.633333333333333,
          16.966666666666665,
          16.966666666666665,
          6.533333333333333,
          13.883333333333333,
          14.316666666666666,
          8.2,
          9.05,
          9.483333333333333,
          9.85,
          10.8,
          12.416666666666666,
          21.133333333333333
         ],
         "y": [
          1,
          1,
          1,
          1,
          1,
          1,
          1,
          1,
          1,
          1,
          1,
          1,
          1,
          1,
          1,
          1,
          1,
          1,
          2,
          2,
          2,
          2,
          2,
          2,
          2,
          2,
          2,
          2,
          2,
          2,
          2,
          2,
          2,
          3,
          3,
          3,
          3,
          3,
          3,
          3,
          3,
          3,
          3,
          3,
          3,
          3,
          3,
          3,
          4,
          4,
          4,
          4,
          4,
          5,
          5,
          5,
          5,
          5,
          5,
          5,
          5,
          5,
          5,
          5,
          5,
          5,
          5,
          5,
          5,
          5,
          5,
          5,
          5,
          5,
          5,
          5,
          5,
          5,
          5,
          5,
          5,
          5,
          5,
          5,
          6,
          6,
          6,
          6,
          6,
          6,
          6,
          6,
          6,
          6,
          6,
          6,
          6,
          6,
          6,
          6,
          6,
          6,
          6,
          6,
          6,
          6,
          6,
          6,
          6,
          6,
          6,
          6,
          6,
          6,
          6,
          6,
          6,
          6,
          6,
          6,
          6,
          6
         ]
        }
       ],
       "layout": {
        "font": {
         "color": "white",
         "size": 24
        },
        "height": 500,
        "paper_bgcolor": "rgba(0,0,0,0)",
        "plot_bgcolor": "rgba(255,255,255,0.1)",
        "template": {
         "data": {
          "bar": [
           {
            "error_x": {
             "color": "#2a3f5f"
            },
            "error_y": {
             "color": "#2a3f5f"
            },
            "marker": {
             "line": {
              "color": "#E5ECF6",
              "width": 0.5
             },
             "pattern": {
              "fillmode": "overlay",
              "size": 10,
              "solidity": 0.2
             }
            },
            "type": "bar"
           }
          ],
          "barpolar": [
           {
            "marker": {
             "line": {
              "color": "#E5ECF6",
              "width": 0.5
             },
             "pattern": {
              "fillmode": "overlay",
              "size": 10,
              "solidity": 0.2
             }
            },
            "type": "barpolar"
           }
          ],
          "carpet": [
           {
            "aaxis": {
             "endlinecolor": "#2a3f5f",
             "gridcolor": "white",
             "linecolor": "white",
             "minorgridcolor": "white",
             "startlinecolor": "#2a3f5f"
            },
            "baxis": {
             "endlinecolor": "#2a3f5f",
             "gridcolor": "white",
             "linecolor": "white",
             "minorgridcolor": "white",
             "startlinecolor": "#2a3f5f"
            },
            "type": "carpet"
           }
          ],
          "choropleth": [
           {
            "colorbar": {
             "outlinewidth": 0,
             "ticks": ""
            },
            "type": "choropleth"
           }
          ],
          "contour": [
           {
            "colorbar": {
             "outlinewidth": 0,
             "ticks": ""
            },
            "colorscale": [
             [
              0,
              "#0d0887"
             ],
             [
              0.1111111111111111,
              "#46039f"
             ],
             [
              0.2222222222222222,
              "#7201a8"
             ],
             [
              0.3333333333333333,
              "#9c179e"
             ],
             [
              0.4444444444444444,
              "#bd3786"
             ],
             [
              0.5555555555555556,
              "#d8576b"
             ],
             [
              0.6666666666666666,
              "#ed7953"
             ],
             [
              0.7777777777777778,
              "#fb9f3a"
             ],
             [
              0.8888888888888888,
              "#fdca26"
             ],
             [
              1,
              "#f0f921"
             ]
            ],
            "type": "contour"
           }
          ],
          "contourcarpet": [
           {
            "colorbar": {
             "outlinewidth": 0,
             "ticks": ""
            },
            "type": "contourcarpet"
           }
          ],
          "heatmap": [
           {
            "colorbar": {
             "outlinewidth": 0,
             "ticks": ""
            },
            "colorscale": [
             [
              0,
              "#0d0887"
             ],
             [
              0.1111111111111111,
              "#46039f"
             ],
             [
              0.2222222222222222,
              "#7201a8"
             ],
             [
              0.3333333333333333,
              "#9c179e"
             ],
             [
              0.4444444444444444,
              "#bd3786"
             ],
             [
              0.5555555555555556,
              "#d8576b"
             ],
             [
              0.6666666666666666,
              "#ed7953"
             ],
             [
              0.7777777777777778,
              "#fb9f3a"
             ],
             [
              0.8888888888888888,
              "#fdca26"
             ],
             [
              1,
              "#f0f921"
             ]
            ],
            "type": "heatmap"
           }
          ],
          "heatmapgl": [
           {
            "colorbar": {
             "outlinewidth": 0,
             "ticks": ""
            },
            "colorscale": [
             [
              0,
              "#0d0887"
             ],
             [
              0.1111111111111111,
              "#46039f"
             ],
             [
              0.2222222222222222,
              "#7201a8"
             ],
             [
              0.3333333333333333,
              "#9c179e"
             ],
             [
              0.4444444444444444,
              "#bd3786"
             ],
             [
              0.5555555555555556,
              "#d8576b"
             ],
             [
              0.6666666666666666,
              "#ed7953"
             ],
             [
              0.7777777777777778,
              "#fb9f3a"
             ],
             [
              0.8888888888888888,
              "#fdca26"
             ],
             [
              1,
              "#f0f921"
             ]
            ],
            "type": "heatmapgl"
           }
          ],
          "histogram": [
           {
            "marker": {
             "pattern": {
              "fillmode": "overlay",
              "size": 10,
              "solidity": 0.2
             }
            },
            "type": "histogram"
           }
          ],
          "histogram2d": [
           {
            "colorbar": {
             "outlinewidth": 0,
             "ticks": ""
            },
            "colorscale": [
             [
              0,
              "#0d0887"
             ],
             [
              0.1111111111111111,
              "#46039f"
             ],
             [
              0.2222222222222222,
              "#7201a8"
             ],
             [
              0.3333333333333333,
              "#9c179e"
             ],
             [
              0.4444444444444444,
              "#bd3786"
             ],
             [
              0.5555555555555556,
              "#d8576b"
             ],
             [
              0.6666666666666666,
              "#ed7953"
             ],
             [
              0.7777777777777778,
              "#fb9f3a"
             ],
             [
              0.8888888888888888,
              "#fdca26"
             ],
             [
              1,
              "#f0f921"
             ]
            ],
            "type": "histogram2d"
           }
          ],
          "histogram2dcontour": [
           {
            "colorbar": {
             "outlinewidth": 0,
             "ticks": ""
            },
            "colorscale": [
             [
              0,
              "#0d0887"
             ],
             [
              0.1111111111111111,
              "#46039f"
             ],
             [
              0.2222222222222222,
              "#7201a8"
             ],
             [
              0.3333333333333333,
              "#9c179e"
             ],
             [
              0.4444444444444444,
              "#bd3786"
             ],
             [
              0.5555555555555556,
              "#d8576b"
             ],
             [
              0.6666666666666666,
              "#ed7953"
             ],
             [
              0.7777777777777778,
              "#fb9f3a"
             ],
             [
              0.8888888888888888,
              "#fdca26"
             ],
             [
              1,
              "#f0f921"
             ]
            ],
            "type": "histogram2dcontour"
           }
          ],
          "mesh3d": [
           {
            "colorbar": {
             "outlinewidth": 0,
             "ticks": ""
            },
            "type": "mesh3d"
           }
          ],
          "parcoords": [
           {
            "line": {
             "colorbar": {
              "outlinewidth": 0,
              "ticks": ""
             }
            },
            "type": "parcoords"
           }
          ],
          "pie": [
           {
            "automargin": true,
            "type": "pie"
           }
          ],
          "scatter": [
           {
            "fillpattern": {
             "fillmode": "overlay",
             "size": 10,
             "solidity": 0.2
            },
            "type": "scatter"
           }
          ],
          "scatter3d": [
           {
            "line": {
             "colorbar": {
              "outlinewidth": 0,
              "ticks": ""
             }
            },
            "marker": {
             "colorbar": {
              "outlinewidth": 0,
              "ticks": ""
             }
            },
            "type": "scatter3d"
           }
          ],
          "scattercarpet": [
           {
            "marker": {
             "colorbar": {
              "outlinewidth": 0,
              "ticks": ""
             }
            },
            "type": "scattercarpet"
           }
          ],
          "scattergeo": [
           {
            "marker": {
             "colorbar": {
              "outlinewidth": 0,
              "ticks": ""
             }
            },
            "type": "scattergeo"
           }
          ],
          "scattergl": [
           {
            "marker": {
             "colorbar": {
              "outlinewidth": 0,
              "ticks": ""
             }
            },
            "type": "scattergl"
           }
          ],
          "scattermapbox": [
           {
            "marker": {
             "colorbar": {
              "outlinewidth": 0,
              "ticks": ""
             }
            },
            "type": "scattermapbox"
           }
          ],
          "scatterpolar": [
           {
            "marker": {
             "colorbar": {
              "outlinewidth": 0,
              "ticks": ""
             }
            },
            "type": "scatterpolar"
           }
          ],
          "scatterpolargl": [
           {
            "marker": {
             "colorbar": {
              "outlinewidth": 0,
              "ticks": ""
             }
            },
            "type": "scatterpolargl"
           }
          ],
          "scatterternary": [
           {
            "marker": {
             "colorbar": {
              "outlinewidth": 0,
              "ticks": ""
             }
            },
            "type": "scatterternary"
           }
          ],
          "surface": [
           {
            "colorbar": {
             "outlinewidth": 0,
             "ticks": ""
            },
            "colorscale": [
             [
              0,
              "#0d0887"
             ],
             [
              0.1111111111111111,
              "#46039f"
             ],
             [
              0.2222222222222222,
              "#7201a8"
             ],
             [
              0.3333333333333333,
              "#9c179e"
             ],
             [
              0.4444444444444444,
              "#bd3786"
             ],
             [
              0.5555555555555556,
              "#d8576b"
             ],
             [
              0.6666666666666666,
              "#ed7953"
             ],
             [
              0.7777777777777778,
              "#fb9f3a"
             ],
             [
              0.8888888888888888,
              "#fdca26"
             ],
             [
              1,
              "#f0f921"
             ]
            ],
            "type": "surface"
           }
          ],
          "table": [
           {
            "cells": {
             "fill": {
              "color": "#EBF0F8"
             },
             "line": {
              "color": "white"
             }
            },
            "header": {
             "fill": {
              "color": "#C8D4E3"
             },
             "line": {
              "color": "white"
             }
            },
            "type": "table"
           }
          ]
         },
         "layout": {
          "annotationdefaults": {
           "arrowcolor": "#2a3f5f",
           "arrowhead": 0,
           "arrowwidth": 1
          },
          "autotypenumbers": "strict",
          "coloraxis": {
           "colorbar": {
            "outlinewidth": 0,
            "ticks": ""
           }
          },
          "colorscale": {
           "diverging": [
            [
             0,
             "#8e0152"
            ],
            [
             0.1,
             "#c51b7d"
            ],
            [
             0.2,
             "#de77ae"
            ],
            [
             0.3,
             "#f1b6da"
            ],
            [
             0.4,
             "#fde0ef"
            ],
            [
             0.5,
             "#f7f7f7"
            ],
            [
             0.6,
             "#e6f5d0"
            ],
            [
             0.7,
             "#b8e186"
            ],
            [
             0.8,
             "#7fbc41"
            ],
            [
             0.9,
             "#4d9221"
            ],
            [
             1,
             "#276419"
            ]
           ],
           "sequential": [
            [
             0,
             "#0d0887"
            ],
            [
             0.1111111111111111,
             "#46039f"
            ],
            [
             0.2222222222222222,
             "#7201a8"
            ],
            [
             0.3333333333333333,
             "#9c179e"
            ],
            [
             0.4444444444444444,
             "#bd3786"
            ],
            [
             0.5555555555555556,
             "#d8576b"
            ],
            [
             0.6666666666666666,
             "#ed7953"
            ],
            [
             0.7777777777777778,
             "#fb9f3a"
            ],
            [
             0.8888888888888888,
             "#fdca26"
            ],
            [
             1,
             "#f0f921"
            ]
           ],
           "sequentialminus": [
            [
             0,
             "#0d0887"
            ],
            [
             0.1111111111111111,
             "#46039f"
            ],
            [
             0.2222222222222222,
             "#7201a8"
            ],
            [
             0.3333333333333333,
             "#9c179e"
            ],
            [
             0.4444444444444444,
             "#bd3786"
            ],
            [
             0.5555555555555556,
             "#d8576b"
            ],
            [
             0.6666666666666666,
             "#ed7953"
            ],
            [
             0.7777777777777778,
             "#fb9f3a"
            ],
            [
             0.8888888888888888,
             "#fdca26"
            ],
            [
             1,
             "#f0f921"
            ]
           ]
          },
          "colorway": [
           "#636efa",
           "#EF553B",
           "#00cc96",
           "#ab63fa",
           "#FFA15A",
           "#19d3f3",
           "#FF6692",
           "#B6E880",
           "#FF97FF",
           "#FECB52"
          ],
          "font": {
           "color": "#2a3f5f"
          },
          "geo": {
           "bgcolor": "white",
           "lakecolor": "white",
           "landcolor": "#E5ECF6",
           "showlakes": true,
           "showland": true,
           "subunitcolor": "white"
          },
          "hoverlabel": {
           "align": "left"
          },
          "hovermode": "closest",
          "mapbox": {
           "style": "light"
          },
          "paper_bgcolor": "white",
          "plot_bgcolor": "#E5ECF6",
          "polar": {
           "angularaxis": {
            "gridcolor": "white",
            "linecolor": "white",
            "ticks": ""
           },
           "bgcolor": "#E5ECF6",
           "radialaxis": {
            "gridcolor": "white",
            "linecolor": "white",
            "ticks": ""
           }
          },
          "scene": {
           "xaxis": {
            "backgroundcolor": "#E5ECF6",
            "gridcolor": "white",
            "gridwidth": 2,
            "linecolor": "white",
            "showbackground": true,
            "ticks": "",
            "zerolinecolor": "white"
           },
           "yaxis": {
            "backgroundcolor": "#E5ECF6",
            "gridcolor": "white",
            "gridwidth": 2,
            "linecolor": "white",
            "showbackground": true,
            "ticks": "",
            "zerolinecolor": "white"
           },
           "zaxis": {
            "backgroundcolor": "#E5ECF6",
            "gridcolor": "white",
            "gridwidth": 2,
            "linecolor": "white",
            "showbackground": true,
            "ticks": "",
            "zerolinecolor": "white"
           }
          },
          "shapedefaults": {
           "line": {
            "color": "#2a3f5f"
           }
          },
          "ternary": {
           "aaxis": {
            "gridcolor": "white",
            "linecolor": "white",
            "ticks": ""
           },
           "baxis": {
            "gridcolor": "white",
            "linecolor": "white",
            "ticks": ""
           },
           "bgcolor": "#E5ECF6",
           "caxis": {
            "gridcolor": "white",
            "linecolor": "white",
            "ticks": ""
           }
          },
          "title": {
           "x": 0.05
          },
          "xaxis": {
           "automargin": true,
           "gridcolor": "white",
           "linecolor": "white",
           "ticks": "",
           "title": {
            "standoff": 15
           },
           "zerolinecolor": "white",
           "zerolinewidth": 2
          },
          "yaxis": {
           "automargin": true,
           "gridcolor": "white",
           "linecolor": "white",
           "ticks": "",
           "title": {
            "standoff": 15
           },
           "zerolinecolor": "white",
           "zerolinewidth": 2
          }
         }
        },
        "width": 1500,
        "xaxis": {
         "dtick": 2,
         "tick0": 0,
         "tickmode": "linear",
         "title": {
          "text": "Game Time (Min)"
         }
        },
        "yaxis": {
         "dtick": 1,
         "showgrid": false,
         "tick0": 0,
         "tickmode": "linear",
         "ticksuffix": "  ",
         "title": {
          "text": "Day"
         }
        }
       }
      }
     },
     "metadata": {},
     "output_type": "display_data"
    }
   ],
   "source": [
    "# plot a scatterplot for the drills over time for each scrim day\n",
    "fig = go.Figure()\n",
    "\n",
    "# plot the misses\n",
    "filter_cond = df_appended[\"Hit\"] == \"No\"\n",
    "fig.add_trace(go.Scatter(x=df_appended[filter_cond][\"Match Elapsed\"] / 60,\n",
    "                         y=df_appended[filter_cond][\"Day\"],\n",
    "                         mode=\"markers\",\n",
    "                         opacity=0.5,\n",
    "                         marker=dict(color=colour_palette[2],\n",
    "                                     size=20,\n",
    "                                     symbol=\"circle\"\n",
    "                                     ),\n",
    "                        name=\"Miss\"\n",
    "                        ))\n",
    "\n",
    "# plot the hits\n",
    "filter_cond = df_appended[\"Hit\"] == \"Yes\"\n",
    "fig.add_trace(go.Scatter(x=df_appended[filter_cond][\"Match Elapsed\"] / 60,\n",
    "                         y=df_appended[filter_cond][\"Day\"],\n",
    "                         mode=\"markers\",\n",
    "                         opacity=0.7,\n",
    "                         marker=dict(color=colour_palette[5],\n",
    "                                     size=24,\n",
    "                                     symbol=\"hexagram\"\n",
    "                                     ),\n",
    "                        name=\"Hit\"\n",
    "                        ))\n",
    "\n",
    "fig.update_layout(\n",
    "    #title=\"Riot Drills Fired Per Day\",\n",
    "    #title_font_size=30,\n",
    "    xaxis_title=\"Game Time (Min)\",\n",
    "    yaxis_title=\"Day\",\n",
    "    xaxis=dict(\n",
    "        tickmode = 'linear',\n",
    "        tick0 = 0,\n",
    "        dtick = 2\n",
    "    ),\n",
    "    yaxis = dict(\n",
    "        tickmode = 'linear',\n",
    "        tick0 = 0,\n",
    "        dtick = 1,\n",
    "        showgrid = False\n",
    "    ),\n",
    "    height=500,\n",
    "    width=1500,\n",
    "    font=dict(color=\"white\",\n",
    "            size=24),\n",
    "    paper_bgcolor='rgba(0,0,0,0)',\n",
    "    plot_bgcolor='rgba(255,255,255,0.1)'\n",
    ")\n",
    "\n",
    "fig.update_yaxes(ticksuffix = \"  \")\n",
    "\n",
    "# ring timings that is not used\n",
    "# # ring 1 closes\n",
    "# fig.add_vline(x=3)\n",
    "# # ring 1 closed\n",
    "# fig.add_vline(x=(3+4.5))\n",
    "# # ring 2 closes\n",
    "# fig.add_vline(x=(3+4.5+2.75))\n",
    "# # ring 2 closed\n",
    "# fig.add_vline(x=(3+4.5+2.75+0.75))\n",
    "# # ring 3 closes\n",
    "# fig.add_vline(x=(3+4.5+2.75+0.75+2.25))\n",
    "# # ring 3 closed\n",
    "# fig.add_vline(x=(3+4.5+2.75+0.75+2.25+0.75))\n",
    "# # ring 4 closes\n",
    "# fig.add_vline(x=(3+4.5+2.75+0.75+2.25+0.75+1.75))\n",
    "# # ring 4 closed\n",
    "# fig.add_vline(x=(3+4.5+2.75+0.75+2.25+0.75+1.75+0.67))\n",
    "# # ring 5 closes\n",
    "# fig.add_vline(x=(3+4.5+2.75+0.75+2.25+0.75+1.75+0.67+1.5))\n",
    "# # ring 5 closed\n",
    "# fig.add_vline(x=(3+4.5+2.75+0.75+2.25+0.75+1.75+0.67+1.5+0.67))\n",
    "# # last ring closes\n",
    "# fig.add_vline(x=(3+4.5+2.75+0.75+2.25+0.75+1.75+0.67+1.5+0.67+1))\n",
    "# # last ring closed\n",
    "# fig.add_vline(x=(3+4.5+2.75+0.75+2.25+0.75+1.75+0.67+1.5+0.67+1+2))\n",
    "\n",
    "fig.show()"
   ]
  },
  {
   "cell_type": "code",
   "execution_count": 179,
   "metadata": {},
   "outputs": [
    {
     "data": {
      "text/html": [
       "<div>\n",
       "<style scoped>\n",
       "    .dataframe tbody tr th:only-of-type {\n",
       "        vertical-align: middle;\n",
       "    }\n",
       "\n",
       "    .dataframe tbody tr th {\n",
       "        vertical-align: top;\n",
       "    }\n",
       "\n",
       "    .dataframe thead th {\n",
       "        text-align: right;\n",
       "    }\n",
       "</style>\n",
       "<table border=\"1\" class=\"dataframe\">\n",
       "  <thead>\n",
       "    <tr style=\"text-align: right;\">\n",
       "      <th></th>\n",
       "      <th>Team Name</th>\n",
       "      <th>Member</th>\n",
       "      <th>Targeted Count</th>\n",
       "      <th>Team Targeted Count</th>\n",
       "    </tr>\n",
       "  </thead>\n",
       "  <tbody>\n",
       "    <tr>\n",
       "      <th>0</th>\n",
       "      <td>KatyouGetsu</td>\n",
       "      <td>Uzuki Kou</td>\n",
       "      <td>0.0</td>\n",
       "      <td>0.0</td>\n",
       "    </tr>\n",
       "    <tr>\n",
       "      <th>1</th>\n",
       "      <td>KatyouGetsu</td>\n",
       "      <td>Watarai Hibari</td>\n",
       "      <td>0.0</td>\n",
       "      <td>0.0</td>\n",
       "    </tr>\n",
       "    <tr>\n",
       "      <th>2</th>\n",
       "      <td>KatyouGetsu</td>\n",
       "      <td>Tachibana Hinano</td>\n",
       "      <td>0.0</td>\n",
       "      <td>0.0</td>\n",
       "    </tr>\n",
       "    <tr>\n",
       "      <th>3</th>\n",
       "      <td>Mayumi-do Shiroan Set</td>\n",
       "      <td>Yukishiro Mahiro</td>\n",
       "      <td>0.0</td>\n",
       "      <td>0.0</td>\n",
       "    </tr>\n",
       "    <tr>\n",
       "      <th>4</th>\n",
       "      <td>Mayumi-do Shiroan Set</td>\n",
       "      <td>And Uge</td>\n",
       "      <td>0.0</td>\n",
       "      <td>0.0</td>\n",
       "    </tr>\n",
       "  </tbody>\n",
       "</table>\n",
       "</div>"
      ],
      "text/plain": [
       "               Team Name            Member  Targeted Count  \\\n",
       "0            KatyouGetsu         Uzuki Kou             0.0   \n",
       "1            KatyouGetsu    Watarai Hibari             0.0   \n",
       "2            KatyouGetsu  Tachibana Hinano             0.0   \n",
       "3  Mayumi-do Shiroan Set  Yukishiro Mahiro             0.0   \n",
       "4  Mayumi-do Shiroan Set           And Uge             0.0   \n",
       "\n",
       "   Team Targeted Count  \n",
       "0                  0.0  \n",
       "1                  0.0  \n",
       "2                  0.0  \n",
       "3                  0.0  \n",
       "4                  0.0  "
      ]
     },
     "execution_count": 179,
     "metadata": {},
     "output_type": "execute_result"
    }
   ],
   "source": [
    "# collapse the leader, member 1 and member 2 columns in the team data into separate rows\n",
    "df_teams_collapsed = pd.melt(df_teams, id_vars=\"Team Name\", value_vars=[\"Leader\", \"Member 1\", \"Member 2\"]).drop(\"variable\", axis=1).sort_values(\"Team Name\").rename({\"value\":\"Member\"}, axis=1)\n",
    "\n",
    "# create a dataframe containing the number of times each member get hit\n",
    "df_target_count = pd.DataFrame(df_appended[\"Target\"].dropna().value_counts()).reset_index(names=\"Member\")\n",
    "\n",
    "# merge the dataframes to include team name\n",
    "df_target_count = df_teams_collapsed.merge(df_target_count, how=\"left\").fillna(0)\n",
    "df_target_count = df_target_count.rename({\"Target\":\"Targeted Count\"}, axis=1)\n",
    "\n",
    "# add a column for the number of times each team get hit\n",
    "df_target_count[\"Team Targeted Count\"] = df_target_count.groupby(\"Team Name\").transform(\"sum\", \"Targeted Count\")\n",
    "df_target_count = df_target_count.set_index([\"Team Name\", \"Member\"]).sort_values([\"Team Targeted Count\", \"Team Name\", \"Targeted Count\"], ascending=[True, True, False]).reset_index()\n",
    "df_target_count.head()"
   ]
  },
  {
   "cell_type": "code",
   "execution_count": 180,
   "metadata": {},
   "outputs": [
    {
     "data": {
      "application/vnd.plotly.v1+json": {
       "config": {
        "plotlyServerURL": "https://plot.ly"
       },
       "data": [
        {
         "alignmentgroup": "True",
         "hovertemplate": "Targeted Count=%{x}<br>Member=%{y}<extra></extra>",
         "legendgroup": "",
         "marker": {
          "color": "#636efa",
          "pattern": {
           "shape": ""
          }
         },
         "name": "",
         "offsetgroup": "",
         "orientation": "h",
         "showlegend": false,
         "textposition": "auto",
         "type": "bar",
         "x": [
          0,
          0,
          0,
          0,
          0,
          0,
          0,
          0,
          0,
          0,
          0,
          0,
          0,
          0,
          0,
          0,
          1,
          1,
          1,
          1,
          1,
          1,
          1,
          1,
          1,
          1,
          2,
          2,
          2,
          2,
          2,
          2,
          2,
          2,
          2,
          2,
          2,
          2,
          3,
          3,
          3,
          3,
          3,
          3,
          4,
          4,
          4,
          4,
          4,
          4,
          5,
          5,
          5,
          5,
          6,
          6,
          7
         ],
         "xaxis": "x",
         "y": [
          "Uzuki Kou",
          "Rikka",
          "Kaga Sumire",
          "Yuuki Chihiro",
          "Selen Tatsuki",
          "Regis Altare",
          "Ha Yun",
          "Minase",
          "Higuichi Kaede",
          "Tachibana Hinano",
          "Kaga Nazuna",
          "Seto Miyako",
          "And Uge",
          "Watarai Hibari",
          "Virtual Gorilla",
          "Yukishiro Mahiro",
          "Inui Shinichiro",
          "Fuwa Minato",
          "Honma Himawari",
          "Shiina Yuika",
          "Yang Nari",
          "Aizawa Ema",
          "Natsuiro Matsuri",
          "Axel Syrios",
          "Yozuna Niu",
          "Elu",
          "Hoshikawa Sara",
          "Hanabusa Lisa",
          "Kanae",
          "Kuzuha",
          "Yuhi Riri",
          "Shinomiya Runa",
          "Hira Hikari",
          "Pakael",
          "Shishigami Leona",
          "Utai Meika",
          "Kuga Leo",
          "Tosaki Mimi",
          "Kurumi Noah",
          "Tsuna Nekota",
          "Fura Kanato",
          "La+ Darknesss",
          "Aruse Inu",
          "Hizaki Gamma",
          "Ichinose Uruha",
          "Yakumo Beni",
          "Naruse Naru",
          "Shirayuki Reid",
          "Makaino Ririmu",
          "Lauren Iroas",
          "Ibrahim",
          "Komori Met",
          "Kaminari Qpi",
          "Ex Albio",
          "Tokoyami Towa",
          "Ratna Petit",
          "Naraka"
         ],
         "yaxis": "y"
        }
       ],
       "layout": {
        "barmode": "relative",
        "height": 1000,
        "legend": {
         "tracegroupgap": 0
        },
        "template": {
         "data": {
          "bar": [
           {
            "error_x": {
             "color": "#2a3f5f"
            },
            "error_y": {
             "color": "#2a3f5f"
            },
            "marker": {
             "line": {
              "color": "#E5ECF6",
              "width": 0.5
             },
             "pattern": {
              "fillmode": "overlay",
              "size": 10,
              "solidity": 0.2
             }
            },
            "type": "bar"
           }
          ],
          "barpolar": [
           {
            "marker": {
             "line": {
              "color": "#E5ECF6",
              "width": 0.5
             },
             "pattern": {
              "fillmode": "overlay",
              "size": 10,
              "solidity": 0.2
             }
            },
            "type": "barpolar"
           }
          ],
          "carpet": [
           {
            "aaxis": {
             "endlinecolor": "#2a3f5f",
             "gridcolor": "white",
             "linecolor": "white",
             "minorgridcolor": "white",
             "startlinecolor": "#2a3f5f"
            },
            "baxis": {
             "endlinecolor": "#2a3f5f",
             "gridcolor": "white",
             "linecolor": "white",
             "minorgridcolor": "white",
             "startlinecolor": "#2a3f5f"
            },
            "type": "carpet"
           }
          ],
          "choropleth": [
           {
            "colorbar": {
             "outlinewidth": 0,
             "ticks": ""
            },
            "type": "choropleth"
           }
          ],
          "contour": [
           {
            "colorbar": {
             "outlinewidth": 0,
             "ticks": ""
            },
            "colorscale": [
             [
              0,
              "#0d0887"
             ],
             [
              0.1111111111111111,
              "#46039f"
             ],
             [
              0.2222222222222222,
              "#7201a8"
             ],
             [
              0.3333333333333333,
              "#9c179e"
             ],
             [
              0.4444444444444444,
              "#bd3786"
             ],
             [
              0.5555555555555556,
              "#d8576b"
             ],
             [
              0.6666666666666666,
              "#ed7953"
             ],
             [
              0.7777777777777778,
              "#fb9f3a"
             ],
             [
              0.8888888888888888,
              "#fdca26"
             ],
             [
              1,
              "#f0f921"
             ]
            ],
            "type": "contour"
           }
          ],
          "contourcarpet": [
           {
            "colorbar": {
             "outlinewidth": 0,
             "ticks": ""
            },
            "type": "contourcarpet"
           }
          ],
          "heatmap": [
           {
            "colorbar": {
             "outlinewidth": 0,
             "ticks": ""
            },
            "colorscale": [
             [
              0,
              "#0d0887"
             ],
             [
              0.1111111111111111,
              "#46039f"
             ],
             [
              0.2222222222222222,
              "#7201a8"
             ],
             [
              0.3333333333333333,
              "#9c179e"
             ],
             [
              0.4444444444444444,
              "#bd3786"
             ],
             [
              0.5555555555555556,
              "#d8576b"
             ],
             [
              0.6666666666666666,
              "#ed7953"
             ],
             [
              0.7777777777777778,
              "#fb9f3a"
             ],
             [
              0.8888888888888888,
              "#fdca26"
             ],
             [
              1,
              "#f0f921"
             ]
            ],
            "type": "heatmap"
           }
          ],
          "heatmapgl": [
           {
            "colorbar": {
             "outlinewidth": 0,
             "ticks": ""
            },
            "colorscale": [
             [
              0,
              "#0d0887"
             ],
             [
              0.1111111111111111,
              "#46039f"
             ],
             [
              0.2222222222222222,
              "#7201a8"
             ],
             [
              0.3333333333333333,
              "#9c179e"
             ],
             [
              0.4444444444444444,
              "#bd3786"
             ],
             [
              0.5555555555555556,
              "#d8576b"
             ],
             [
              0.6666666666666666,
              "#ed7953"
             ],
             [
              0.7777777777777778,
              "#fb9f3a"
             ],
             [
              0.8888888888888888,
              "#fdca26"
             ],
             [
              1,
              "#f0f921"
             ]
            ],
            "type": "heatmapgl"
           }
          ],
          "histogram": [
           {
            "marker": {
             "pattern": {
              "fillmode": "overlay",
              "size": 10,
              "solidity": 0.2
             }
            },
            "type": "histogram"
           }
          ],
          "histogram2d": [
           {
            "colorbar": {
             "outlinewidth": 0,
             "ticks": ""
            },
            "colorscale": [
             [
              0,
              "#0d0887"
             ],
             [
              0.1111111111111111,
              "#46039f"
             ],
             [
              0.2222222222222222,
              "#7201a8"
             ],
             [
              0.3333333333333333,
              "#9c179e"
             ],
             [
              0.4444444444444444,
              "#bd3786"
             ],
             [
              0.5555555555555556,
              "#d8576b"
             ],
             [
              0.6666666666666666,
              "#ed7953"
             ],
             [
              0.7777777777777778,
              "#fb9f3a"
             ],
             [
              0.8888888888888888,
              "#fdca26"
             ],
             [
              1,
              "#f0f921"
             ]
            ],
            "type": "histogram2d"
           }
          ],
          "histogram2dcontour": [
           {
            "colorbar": {
             "outlinewidth": 0,
             "ticks": ""
            },
            "colorscale": [
             [
              0,
              "#0d0887"
             ],
             [
              0.1111111111111111,
              "#46039f"
             ],
             [
              0.2222222222222222,
              "#7201a8"
             ],
             [
              0.3333333333333333,
              "#9c179e"
             ],
             [
              0.4444444444444444,
              "#bd3786"
             ],
             [
              0.5555555555555556,
              "#d8576b"
             ],
             [
              0.6666666666666666,
              "#ed7953"
             ],
             [
              0.7777777777777778,
              "#fb9f3a"
             ],
             [
              0.8888888888888888,
              "#fdca26"
             ],
             [
              1,
              "#f0f921"
             ]
            ],
            "type": "histogram2dcontour"
           }
          ],
          "mesh3d": [
           {
            "colorbar": {
             "outlinewidth": 0,
             "ticks": ""
            },
            "type": "mesh3d"
           }
          ],
          "parcoords": [
           {
            "line": {
             "colorbar": {
              "outlinewidth": 0,
              "ticks": ""
             }
            },
            "type": "parcoords"
           }
          ],
          "pie": [
           {
            "automargin": true,
            "type": "pie"
           }
          ],
          "scatter": [
           {
            "fillpattern": {
             "fillmode": "overlay",
             "size": 10,
             "solidity": 0.2
            },
            "type": "scatter"
           }
          ],
          "scatter3d": [
           {
            "line": {
             "colorbar": {
              "outlinewidth": 0,
              "ticks": ""
             }
            },
            "marker": {
             "colorbar": {
              "outlinewidth": 0,
              "ticks": ""
             }
            },
            "type": "scatter3d"
           }
          ],
          "scattercarpet": [
           {
            "marker": {
             "colorbar": {
              "outlinewidth": 0,
              "ticks": ""
             }
            },
            "type": "scattercarpet"
           }
          ],
          "scattergeo": [
           {
            "marker": {
             "colorbar": {
              "outlinewidth": 0,
              "ticks": ""
             }
            },
            "type": "scattergeo"
           }
          ],
          "scattergl": [
           {
            "marker": {
             "colorbar": {
              "outlinewidth": 0,
              "ticks": ""
             }
            },
            "type": "scattergl"
           }
          ],
          "scattermapbox": [
           {
            "marker": {
             "colorbar": {
              "outlinewidth": 0,
              "ticks": ""
             }
            },
            "type": "scattermapbox"
           }
          ],
          "scatterpolar": [
           {
            "marker": {
             "colorbar": {
              "outlinewidth": 0,
              "ticks": ""
             }
            },
            "type": "scatterpolar"
           }
          ],
          "scatterpolargl": [
           {
            "marker": {
             "colorbar": {
              "outlinewidth": 0,
              "ticks": ""
             }
            },
            "type": "scatterpolargl"
           }
          ],
          "scatterternary": [
           {
            "marker": {
             "colorbar": {
              "outlinewidth": 0,
              "ticks": ""
             }
            },
            "type": "scatterternary"
           }
          ],
          "surface": [
           {
            "colorbar": {
             "outlinewidth": 0,
             "ticks": ""
            },
            "colorscale": [
             [
              0,
              "#0d0887"
             ],
             [
              0.1111111111111111,
              "#46039f"
             ],
             [
              0.2222222222222222,
              "#7201a8"
             ],
             [
              0.3333333333333333,
              "#9c179e"
             ],
             [
              0.4444444444444444,
              "#bd3786"
             ],
             [
              0.5555555555555556,
              "#d8576b"
             ],
             [
              0.6666666666666666,
              "#ed7953"
             ],
             [
              0.7777777777777778,
              "#fb9f3a"
             ],
             [
              0.8888888888888888,
              "#fdca26"
             ],
             [
              1,
              "#f0f921"
             ]
            ],
            "type": "surface"
           }
          ],
          "table": [
           {
            "cells": {
             "fill": {
              "color": "#EBF0F8"
             },
             "line": {
              "color": "white"
             }
            },
            "header": {
             "fill": {
              "color": "#C8D4E3"
             },
             "line": {
              "color": "white"
             }
            },
            "type": "table"
           }
          ]
         },
         "layout": {
          "annotationdefaults": {
           "arrowcolor": "#2a3f5f",
           "arrowhead": 0,
           "arrowwidth": 1
          },
          "autotypenumbers": "strict",
          "coloraxis": {
           "colorbar": {
            "outlinewidth": 0,
            "ticks": ""
           }
          },
          "colorscale": {
           "diverging": [
            [
             0,
             "#8e0152"
            ],
            [
             0.1,
             "#c51b7d"
            ],
            [
             0.2,
             "#de77ae"
            ],
            [
             0.3,
             "#f1b6da"
            ],
            [
             0.4,
             "#fde0ef"
            ],
            [
             0.5,
             "#f7f7f7"
            ],
            [
             0.6,
             "#e6f5d0"
            ],
            [
             0.7,
             "#b8e186"
            ],
            [
             0.8,
             "#7fbc41"
            ],
            [
             0.9,
             "#4d9221"
            ],
            [
             1,
             "#276419"
            ]
           ],
           "sequential": [
            [
             0,
             "#0d0887"
            ],
            [
             0.1111111111111111,
             "#46039f"
            ],
            [
             0.2222222222222222,
             "#7201a8"
            ],
            [
             0.3333333333333333,
             "#9c179e"
            ],
            [
             0.4444444444444444,
             "#bd3786"
            ],
            [
             0.5555555555555556,
             "#d8576b"
            ],
            [
             0.6666666666666666,
             "#ed7953"
            ],
            [
             0.7777777777777778,
             "#fb9f3a"
            ],
            [
             0.8888888888888888,
             "#fdca26"
            ],
            [
             1,
             "#f0f921"
            ]
           ],
           "sequentialminus": [
            [
             0,
             "#0d0887"
            ],
            [
             0.1111111111111111,
             "#46039f"
            ],
            [
             0.2222222222222222,
             "#7201a8"
            ],
            [
             0.3333333333333333,
             "#9c179e"
            ],
            [
             0.4444444444444444,
             "#bd3786"
            ],
            [
             0.5555555555555556,
             "#d8576b"
            ],
            [
             0.6666666666666666,
             "#ed7953"
            ],
            [
             0.7777777777777778,
             "#fb9f3a"
            ],
            [
             0.8888888888888888,
             "#fdca26"
            ],
            [
             1,
             "#f0f921"
            ]
           ]
          },
          "colorway": [
           "#636efa",
           "#EF553B",
           "#00cc96",
           "#ab63fa",
           "#FFA15A",
           "#19d3f3",
           "#FF6692",
           "#B6E880",
           "#FF97FF",
           "#FECB52"
          ],
          "font": {
           "color": "#2a3f5f"
          },
          "geo": {
           "bgcolor": "white",
           "lakecolor": "white",
           "landcolor": "#E5ECF6",
           "showlakes": true,
           "showland": true,
           "subunitcolor": "white"
          },
          "hoverlabel": {
           "align": "left"
          },
          "hovermode": "closest",
          "mapbox": {
           "style": "light"
          },
          "paper_bgcolor": "white",
          "plot_bgcolor": "#E5ECF6",
          "polar": {
           "angularaxis": {
            "gridcolor": "white",
            "linecolor": "white",
            "ticks": ""
           },
           "bgcolor": "#E5ECF6",
           "radialaxis": {
            "gridcolor": "white",
            "linecolor": "white",
            "ticks": ""
           }
          },
          "scene": {
           "xaxis": {
            "backgroundcolor": "#E5ECF6",
            "gridcolor": "white",
            "gridwidth": 2,
            "linecolor": "white",
            "showbackground": true,
            "ticks": "",
            "zerolinecolor": "white"
           },
           "yaxis": {
            "backgroundcolor": "#E5ECF6",
            "gridcolor": "white",
            "gridwidth": 2,
            "linecolor": "white",
            "showbackground": true,
            "ticks": "",
            "zerolinecolor": "white"
           },
           "zaxis": {
            "backgroundcolor": "#E5ECF6",
            "gridcolor": "white",
            "gridwidth": 2,
            "linecolor": "white",
            "showbackground": true,
            "ticks": "",
            "zerolinecolor": "white"
           }
          },
          "shapedefaults": {
           "line": {
            "color": "#2a3f5f"
           }
          },
          "ternary": {
           "aaxis": {
            "gridcolor": "white",
            "linecolor": "white",
            "ticks": ""
           },
           "baxis": {
            "gridcolor": "white",
            "linecolor": "white",
            "ticks": ""
           },
           "bgcolor": "#E5ECF6",
           "caxis": {
            "gridcolor": "white",
            "linecolor": "white",
            "ticks": ""
           }
          },
          "title": {
           "x": 0.05
          },
          "xaxis": {
           "automargin": true,
           "gridcolor": "white",
           "linecolor": "white",
           "ticks": "",
           "title": {
            "standoff": 15
           },
           "zerolinecolor": "white",
           "zerolinewidth": 2
          },
          "yaxis": {
           "automargin": true,
           "gridcolor": "white",
           "linecolor": "white",
           "ticks": "",
           "title": {
            "standoff": 15
           },
           "zerolinecolor": "white",
           "zerolinewidth": 2
          }
         }
        },
        "title": {
         "text": "Targeted Count"
        },
        "xaxis": {
         "anchor": "y",
         "domain": [
          0,
          1
         ],
         "title": {
          "text": "Targeted Count"
         }
        },
        "yaxis": {
         "anchor": "x",
         "domain": [
          0,
          1
         ],
         "title": {
          "text": "Member"
         }
        }
       }
      }
     },
     "metadata": {},
     "output_type": "display_data"
    }
   ],
   "source": [
    "# plot a barchart for the number of hits for each member\n",
    "fig = px.bar(df_target_count.sort_values(\"Targeted Count\"), x=\"Targeted Count\", y=\"Member\", title=\"Targeted Count\", orientation=\"h\")\n",
    "\n",
    "fig.update_layout(\n",
    "    #title=\"Riot Drills Fired Per Day\",\n",
    "    #title_font_size=30,\n",
    "    xaxis_title=\"Game Time (Min)\",\n",
    "    yaxis_title=\"Day\",\n",
    "    xaxis=dict(\n",
    "        tickmode = 'linear',\n",
    "        tick0 = 0,\n",
    "        dtick = 2\n",
    "    ),\n",
    "    yaxis = dict(\n",
    "        tickmode = 'linear',\n",
    "        tick0 = 0,\n",
    "        dtick = 1,\n",
    "        showgrid = False\n",
    "    ),\n",
    "    height=500,\n",
    "    width=1500,\n",
    "    font=dict(color=\"white\",\n",
    "            size=24),\n",
    "    paper_bgcolor='rgba(0,0,0,0)',\n",
    "    plot_bgcolor='rgba(255,255,255,0.1)'\n",
    ")\n",
    "\n",
    "fig.update_yaxes(ticksuffix = \"  \")\n",
    "\n",
    "fig.show()"
   ]
  },
  {
   "cell_type": "code",
   "execution_count": 254,
   "metadata": {},
   "outputs": [
    {
     "data": {
      "application/vnd.plotly.v1+json": {
       "config": {
        "plotlyServerURL": "https://plot.ly"
       },
       "data": [
        {
         "alignmentgroup": "True",
         "hovertemplate": "Member=Uzuki Kou<br>Targeted Count=%{x}<br>Team Name=%{y}<br>text=%{text}<extra></extra>",
         "legendgroup": "Uzuki Kou",
         "marker": {
          "color": "#e69f00",
          "pattern": {
           "shape": ""
          }
         },
         "name": "Uzuki Kou",
         "offsetgroup": "Uzuki Kou",
         "orientation": "h",
         "showlegend": true,
         "text": [
          "Kou"
         ],
         "textposition": "auto",
         "type": "bar",
         "x": [
          0
         ],
         "xaxis": "x",
         "y": [
          "KatyouGetsu"
         ],
         "yaxis": "y"
        },
        {
         "alignmentgroup": "True",
         "hovertemplate": "Member=Watarai Hibari<br>Targeted Count=%{x}<br>Team Name=%{y}<br>text=%{text}<extra></extra>",
         "legendgroup": "Watarai Hibari",
         "marker": {
          "color": "#56b4e9",
          "pattern": {
           "shape": ""
          }
         },
         "name": "Watarai Hibari",
         "offsetgroup": "Watarai Hibari",
         "orientation": "h",
         "showlegend": true,
         "text": [
          "Hibari"
         ],
         "textposition": "auto",
         "type": "bar",
         "x": [
          0
         ],
         "xaxis": "x",
         "y": [
          "KatyouGetsu"
         ],
         "yaxis": "y"
        },
        {
         "alignmentgroup": "True",
         "hovertemplate": "Member=Tachibana Hinano<br>Targeted Count=%{x}<br>Team Name=%{y}<br>text=%{text}<extra></extra>",
         "legendgroup": "Tachibana Hinano",
         "marker": {
          "color": "#009e74",
          "pattern": {
           "shape": ""
          }
         },
         "name": "Tachibana Hinano",
         "offsetgroup": "Tachibana Hinano",
         "orientation": "h",
         "showlegend": true,
         "text": [
          "Hinano"
         ],
         "textposition": "auto",
         "type": "bar",
         "x": [
          0
         ],
         "xaxis": "x",
         "y": [
          "KatyouGetsu"
         ],
         "yaxis": "y"
        },
        {
         "alignmentgroup": "True",
         "hovertemplate": "Member=Yukishiro Mahiro<br>Targeted Count=%{x}<br>Team Name=%{y}<br>text=%{text}<extra></extra>",
         "legendgroup": "Yukishiro Mahiro",
         "marker": {
          "color": "#e69f00",
          "pattern": {
           "shape": ""
          }
         },
         "name": "Yukishiro Mahiro",
         "offsetgroup": "Yukishiro Mahiro",
         "orientation": "h",
         "showlegend": true,
         "text": [
          "Mahiro"
         ],
         "textposition": "auto",
         "type": "bar",
         "x": [
          0
         ],
         "xaxis": "x",
         "y": [
          "Mayumi-do Shiroan Set"
         ],
         "yaxis": "y"
        },
        {
         "alignmentgroup": "True",
         "hovertemplate": "Member=And Uge<br>Targeted Count=%{x}<br>Team Name=%{y}<br>text=%{text}<extra></extra>",
         "legendgroup": "And Uge",
         "marker": {
          "color": "#56b4e9",
          "pattern": {
           "shape": ""
          }
         },
         "name": "And Uge",
         "offsetgroup": "And Uge",
         "orientation": "h",
         "showlegend": true,
         "text": [
          "Uge"
         ],
         "textposition": "auto",
         "type": "bar",
         "x": [
          0
         ],
         "xaxis": "x",
         "y": [
          "Mayumi-do Shiroan Set"
         ],
         "yaxis": "y"
        },
        {
         "alignmentgroup": "True",
         "hovertemplate": "Member=Seto Miyako<br>Targeted Count=%{x}<br>Team Name=%{y}<br>text=%{text}<extra></extra>",
         "legendgroup": "Seto Miyako",
         "marker": {
          "color": "#009e74",
          "pattern": {
           "shape": ""
          }
         },
         "name": "Seto Miyako",
         "offsetgroup": "Seto Miyako",
         "orientation": "h",
         "showlegend": true,
         "text": [
          "Miyako"
         ],
         "textposition": "auto",
         "type": "bar",
         "x": [
          0
         ],
         "xaxis": "x",
         "y": [
          "Mayumi-do Shiroan Set"
         ],
         "yaxis": "y"
        },
        {
         "alignmentgroup": "True",
         "hovertemplate": "Member=Yozuna Niu<br>Targeted Count=%{x}<br>Team Name=%{y}<br>text=%{text}<extra></extra>",
         "legendgroup": "Yozuna Niu",
         "marker": {
          "color": "#e69f00",
          "pattern": {
           "shape": ""
          }
         },
         "name": "Yozuna Niu",
         "offsetgroup": "Yozuna Niu",
         "orientation": "h",
         "showlegend": true,
         "text": [
          "Niu"
         ],
         "textposition": "auto",
         "type": "bar",
         "x": [
          1
         ],
         "xaxis": "x",
         "y": [
          "Gorilla Transportation"
         ],
         "yaxis": "y"
        },
        {
         "alignmentgroup": "True",
         "hovertemplate": "Member=Kaga Nazuna<br>Targeted Count=%{x}<br>Team Name=%{y}<br>text=%{text}<extra></extra>",
         "legendgroup": "Kaga Nazuna",
         "marker": {
          "color": "#56b4e9",
          "pattern": {
           "shape": ""
          }
         },
         "name": "Kaga Nazuna",
         "offsetgroup": "Kaga Nazuna",
         "orientation": "h",
         "showlegend": true,
         "text": [
          "Nazuna"
         ],
         "textposition": "auto",
         "type": "bar",
         "x": [
          0
         ],
         "xaxis": "x",
         "y": [
          "Gorilla Transportation"
         ],
         "yaxis": "y"
        },
        {
         "alignmentgroup": "True",
         "hovertemplate": "Member=Virtual Gorilla<br>Targeted Count=%{x}<br>Team Name=%{y}<br>text=%{text}<extra></extra>",
         "legendgroup": "Virtual Gorilla",
         "marker": {
          "color": "#009e74",
          "pattern": {
           "shape": ""
          }
         },
         "name": "Virtual Gorilla",
         "offsetgroup": "Virtual Gorilla",
         "orientation": "h",
         "showlegend": true,
         "text": [
          "Gorilla"
         ],
         "textposition": "auto",
         "type": "bar",
         "x": [
          0
         ],
         "xaxis": "x",
         "y": [
          "Gorilla Transportation"
         ],
         "yaxis": "y"
        },
        {
         "alignmentgroup": "True",
         "hovertemplate": "Member=Yang Nari<br>Targeted Count=%{x}<br>Team Name=%{y}<br>text=%{text}<extra></extra>",
         "legendgroup": "Yang Nari",
         "marker": {
          "color": "#e69f00",
          "pattern": {
           "shape": ""
          }
         },
         "name": "Yang Nari",
         "offsetgroup": "Yang Nari",
         "orientation": "h",
         "showlegend": true,
         "text": [
          "Nari"
         ],
         "textposition": "auto",
         "type": "bar",
         "x": [
          1
         ],
         "xaxis": "x",
         "y": [
          "Pink à la Mode"
         ],
         "yaxis": "y"
        },
        {
         "alignmentgroup": "True",
         "hovertemplate": "Member=Minase<br>Targeted Count=%{x}<br>Team Name=%{y}<br>text=%{text}<extra></extra>",
         "legendgroup": "Minase",
         "marker": {
          "color": "#56b4e9",
          "pattern": {
           "shape": ""
          }
         },
         "name": "Minase",
         "offsetgroup": "Minase",
         "orientation": "h",
         "showlegend": true,
         "text": [
          "Minase"
         ],
         "textposition": "auto",
         "type": "bar",
         "x": [
          0
         ],
         "xaxis": "x",
         "y": [
          "Pink à la Mode"
         ],
         "yaxis": "y"
        },
        {
         "alignmentgroup": "True",
         "hovertemplate": "Member=Ha Yun<br>Targeted Count=%{x}<br>Team Name=%{y}<br>text=%{text}<extra></extra>",
         "legendgroup": "Ha Yun",
         "marker": {
          "color": "#009e74",
          "pattern": {
           "shape": ""
          }
         },
         "name": "Ha Yun",
         "offsetgroup": "Ha Yun",
         "orientation": "h",
         "showlegend": true,
         "text": [
          "Yun"
         ],
         "textposition": "auto",
         "type": "bar",
         "x": [
          0
         ],
         "xaxis": "x",
         "y": [
          "Pink à la Mode"
         ],
         "yaxis": "y"
        },
        {
         "alignmentgroup": "True",
         "hovertemplate": "Member=Axel Syrios<br>Targeted Count=%{x}<br>Team Name=%{y}<br>text=%{text}<extra></extra>",
         "legendgroup": "Axel Syrios",
         "marker": {
          "color": "#e69f00",
          "pattern": {
           "shape": ""
          }
         },
         "name": "Axel Syrios",
         "offsetgroup": "Axel Syrios",
         "orientation": "h",
         "showlegend": true,
         "text": [
          "Syrios"
         ],
         "textposition": "auto",
         "type": "bar",
         "x": [
          1
         ],
         "xaxis": "x",
         "y": [
          "Team Snake Bite"
         ],
         "yaxis": "y"
        },
        {
         "alignmentgroup": "True",
         "hovertemplate": "Member=Regis Altare<br>Targeted Count=%{x}<br>Team Name=%{y}<br>text=%{text}<extra></extra>",
         "legendgroup": "Regis Altare",
         "marker": {
          "color": "#56b4e9",
          "pattern": {
           "shape": ""
          }
         },
         "name": "Regis Altare",
         "offsetgroup": "Regis Altare",
         "orientation": "h",
         "showlegend": true,
         "text": [
          "Altare"
         ],
         "textposition": "auto",
         "type": "bar",
         "x": [
          0
         ],
         "xaxis": "x",
         "y": [
          "Team Snake Bite"
         ],
         "yaxis": "y"
        },
        {
         "alignmentgroup": "True",
         "hovertemplate": "Member=Selen Tatsuki<br>Targeted Count=%{x}<br>Team Name=%{y}<br>text=%{text}<extra></extra>",
         "legendgroup": "Selen Tatsuki",
         "marker": {
          "color": "#009e74",
          "pattern": {
           "shape": ""
          }
         },
         "name": "Selen Tatsuki",
         "offsetgroup": "Selen Tatsuki",
         "orientation": "h",
         "showlegend": true,
         "text": [
          "Tatsuki"
         ],
         "textposition": "auto",
         "type": "bar",
         "x": [
          0
         ],
         "xaxis": "x",
         "y": [
          "Team Snake Bite"
         ],
         "yaxis": "y"
        },
        {
         "alignmentgroup": "True",
         "hovertemplate": "Member=Elu<br>Targeted Count=%{x}<br>Team Name=%{y}<br>text=%{text}<extra></extra>",
         "legendgroup": "Elu",
         "marker": {
          "color": "#e69f00",
          "pattern": {
           "shape": ""
          }
         },
         "name": "Elu",
         "offsetgroup": "Elu",
         "orientation": "h",
         "showlegend": true,
         "text": [
          "Elu"
         ],
         "textposition": "auto",
         "type": "bar",
         "x": [
          1
         ],
         "xaxis": "x",
         "y": [
          "3Seiketsu"
         ],
         "yaxis": "y"
        },
        {
         "alignmentgroup": "True",
         "hovertemplate": "Member=Natsuiro Matsuri<br>Targeted Count=%{x}<br>Team Name=%{y}<br>text=%{text}<extra></extra>",
         "legendgroup": "Natsuiro Matsuri",
         "marker": {
          "color": "#56b4e9",
          "pattern": {
           "shape": ""
          }
         },
         "name": "Natsuiro Matsuri",
         "offsetgroup": "Natsuiro Matsuri",
         "orientation": "h",
         "showlegend": true,
         "text": [
          "Matsuri"
         ],
         "textposition": "auto",
         "type": "bar",
         "x": [
          1
         ],
         "xaxis": "x",
         "y": [
          "3Seiketsu"
         ],
         "yaxis": "y"
        },
        {
         "alignmentgroup": "True",
         "hovertemplate": "Member=Aizawa Ema<br>Targeted Count=%{x}<br>Team Name=%{y}<br>text=%{text}<extra></extra>",
         "legendgroup": "Aizawa Ema",
         "marker": {
          "color": "#009e74",
          "pattern": {
           "shape": ""
          }
         },
         "name": "Aizawa Ema",
         "offsetgroup": "Aizawa Ema",
         "orientation": "h",
         "showlegend": true,
         "text": [
          "Ema"
         ],
         "textposition": "auto",
         "type": "bar",
         "x": [
          1
         ],
         "xaxis": "x",
         "y": [
          "3Seiketsu"
         ],
         "yaxis": "y"
        },
        {
         "alignmentgroup": "True",
         "hovertemplate": "Member=La+ Darknesss<br>Targeted Count=%{x}<br>Team Name=%{y}<br>text=%{text}<extra></extra>",
         "legendgroup": "La+ Darknesss",
         "marker": {
          "color": "#e69f00",
          "pattern": {
           "shape": ""
          }
         },
         "name": "La+ Darknesss",
         "offsetgroup": "La+ Darknesss",
         "orientation": "h",
         "showlegend": true,
         "text": [
          "Darknesss"
         ],
         "textposition": "auto",
         "type": "bar",
         "x": [
          3
         ],
         "xaxis": "x",
         "y": [
          "Episenda"
         ],
         "yaxis": "y"
        },
        {
         "alignmentgroup": "True",
         "hovertemplate": "Member=Yuuki Chihiro<br>Targeted Count=%{x}<br>Team Name=%{y}<br>text=%{text}<extra></extra>",
         "legendgroup": "Yuuki Chihiro",
         "marker": {
          "color": "#56b4e9",
          "pattern": {
           "shape": ""
          }
         },
         "name": "Yuuki Chihiro",
         "offsetgroup": "Yuuki Chihiro",
         "orientation": "h",
         "showlegend": true,
         "text": [
          "Chihiro"
         ],
         "textposition": "auto",
         "type": "bar",
         "x": [
          0
         ],
         "xaxis": "x",
         "y": [
          "Episenda"
         ],
         "yaxis": "y"
        },
        {
         "alignmentgroup": "True",
         "hovertemplate": "Member=Kaga Sumire<br>Targeted Count=%{x}<br>Team Name=%{y}<br>text=%{text}<extra></extra>",
         "legendgroup": "Kaga Sumire",
         "marker": {
          "color": "#009e74",
          "pattern": {
           "shape": ""
          }
         },
         "name": "Kaga Sumire",
         "offsetgroup": "Kaga Sumire",
         "orientation": "h",
         "showlegend": true,
         "text": [
          "Sumire"
         ],
         "textposition": "auto",
         "type": "bar",
         "x": [
          0
         ],
         "xaxis": "x",
         "y": [
          "Episenda"
         ],
         "yaxis": "y"
        },
        {
         "alignmentgroup": "True",
         "hovertemplate": "Member=Pakael<br>Targeted Count=%{x}<br>Team Name=%{y}<br>text=%{text}<extra></extra>",
         "legendgroup": "Pakael",
         "marker": {
          "color": "#e69f00",
          "pattern": {
           "shape": ""
          }
         },
         "name": "Pakael",
         "offsetgroup": "Pakael",
         "orientation": "h",
         "showlegend": true,
         "text": [
          "Pakael"
         ],
         "textposition": "auto",
         "type": "bar",
         "x": [
          2
         ],
         "xaxis": "x",
         "y": [
          "DatsuKasu"
         ],
         "yaxis": "y"
        },
        {
         "alignmentgroup": "True",
         "hovertemplate": "Member=Kuga Leo<br>Targeted Count=%{x}<br>Team Name=%{y}<br>text=%{text}<extra></extra>",
         "legendgroup": "Kuga Leo",
         "marker": {
          "color": "#56b4e9",
          "pattern": {
           "shape": ""
          }
         },
         "name": "Kuga Leo",
         "offsetgroup": "Kuga Leo",
         "orientation": "h",
         "showlegend": true,
         "text": [
          "Leo"
         ],
         "textposition": "auto",
         "type": "bar",
         "x": [
          2
         ],
         "xaxis": "x",
         "y": [
          "DatsuKasu"
         ],
         "yaxis": "y"
        },
        {
         "alignmentgroup": "True",
         "hovertemplate": "Member=Rikka<br>Targeted Count=%{x}<br>Team Name=%{y}<br>text=%{text}<extra></extra>",
         "legendgroup": "Rikka",
         "marker": {
          "color": "#009e74",
          "pattern": {
           "shape": ""
          }
         },
         "name": "Rikka",
         "offsetgroup": "Rikka",
         "orientation": "h",
         "showlegend": true,
         "text": [
          "Rikka"
         ],
         "textposition": "auto",
         "type": "bar",
         "x": [
          0
         ],
         "xaxis": "x",
         "y": [
          "DatsuKasu"
         ],
         "yaxis": "y"
        },
        {
         "alignmentgroup": "True",
         "hovertemplate": "Member=Utai Meika<br>Targeted Count=%{x}<br>Team Name=%{y}<br>text=%{text}<extra></extra>",
         "legendgroup": "Utai Meika",
         "marker": {
          "color": "#e69f00",
          "pattern": {
           "shape": ""
          }
         },
         "name": "Utai Meika",
         "offsetgroup": "Utai Meika",
         "orientation": "h",
         "showlegend": true,
         "text": [
          "Meika"
         ],
         "textposition": "auto",
         "type": "bar",
         "x": [
          2
         ],
         "xaxis": "x",
         "y": [
          "Kansai Genki Hoan Kyoukai"
         ],
         "yaxis": "y"
        },
        {
         "alignmentgroup": "True",
         "hovertemplate": "Member=Shiina Yuika<br>Targeted Count=%{x}<br>Team Name=%{y}<br>text=%{text}<extra></extra>",
         "legendgroup": "Shiina Yuika",
         "marker": {
          "color": "#56b4e9",
          "pattern": {
           "shape": ""
          }
         },
         "name": "Shiina Yuika",
         "offsetgroup": "Shiina Yuika",
         "orientation": "h",
         "showlegend": true,
         "text": [
          "Yuika"
         ],
         "textposition": "auto",
         "type": "bar",
         "x": [
          1
         ],
         "xaxis": "x",
         "y": [
          "Kansai Genki Hoan Kyoukai"
         ],
         "yaxis": "y"
        },
        {
         "alignmentgroup": "True",
         "hovertemplate": "Member=Honma Himawari<br>Targeted Count=%{x}<br>Team Name=%{y}<br>text=%{text}<extra></extra>",
         "legendgroup": "Honma Himawari",
         "marker": {
          "color": "#009e74",
          "pattern": {
           "shape": ""
          }
         },
         "name": "Honma Himawari",
         "offsetgroup": "Honma Himawari",
         "orientation": "h",
         "showlegend": true,
         "text": [
          "Himawari"
         ],
         "textposition": "auto",
         "type": "bar",
         "x": [
          1
         ],
         "xaxis": "x",
         "y": [
          "Kansai Genki Hoan Kyoukai"
         ],
         "yaxis": "y"
        },
        {
         "alignmentgroup": "True",
         "hovertemplate": "Member=Shishigami Leona<br>Targeted Count=%{x}<br>Team Name=%{y}<br>text=%{text}<extra></extra>",
         "legendgroup": "Shishigami Leona",
         "marker": {
          "color": "#e69f00",
          "pattern": {
           "shape": ""
          }
         },
         "name": "Shishigami Leona",
         "offsetgroup": "Shishigami Leona",
         "orientation": "h",
         "showlegend": true,
         "text": [
          "Leona"
         ],
         "textposition": "auto",
         "type": "bar",
         "x": [
          2
         ],
         "xaxis": "x",
         "y": [
          "InutoLion"
         ],
         "yaxis": "y"
        },
        {
         "alignmentgroup": "True",
         "hovertemplate": "Member=Hira Hikari<br>Targeted Count=%{x}<br>Team Name=%{y}<br>text=%{text}<extra></extra>",
         "legendgroup": "Hira Hikari",
         "marker": {
          "color": "#56b4e9",
          "pattern": {
           "shape": ""
          }
         },
         "name": "Hira Hikari",
         "offsetgroup": "Hira Hikari",
         "orientation": "h",
         "showlegend": true,
         "text": [
          "Hikari"
         ],
         "textposition": "auto",
         "type": "bar",
         "x": [
          2
         ],
         "xaxis": "x",
         "y": [
          "InutoLion"
         ],
         "yaxis": "y"
        },
        {
         "alignmentgroup": "True",
         "hovertemplate": "Member=Inui Shinichiro<br>Targeted Count=%{x}<br>Team Name=%{y}<br>text=%{text}<extra></extra>",
         "legendgroup": "Inui Shinichiro",
         "marker": {
          "color": "#009e74",
          "pattern": {
           "shape": ""
          }
         },
         "name": "Inui Shinichiro",
         "offsetgroup": "Inui Shinichiro",
         "orientation": "h",
         "showlegend": true,
         "text": [
          "Shinichiro"
         ],
         "textposition": "auto",
         "type": "bar",
         "x": [
          1
         ],
         "xaxis": "x",
         "y": [
          "InutoLion"
         ],
         "yaxis": "y"
        },
        {
         "alignmentgroup": "True",
         "hovertemplate": "Member=Kurumi Noah<br>Targeted Count=%{x}<br>Team Name=%{y}<br>text=%{text}<extra></extra>",
         "legendgroup": "Kurumi Noah",
         "marker": {
          "color": "#e69f00",
          "pattern": {
           "shape": ""
          }
         },
         "name": "Kurumi Noah",
         "offsetgroup": "Kurumi Noah",
         "orientation": "h",
         "showlegend": true,
         "text": [
          "Noah"
         ],
         "textposition": "auto",
         "type": "bar",
         "x": [
          3
         ],
         "xaxis": "x",
         "y": [
          "Maple Nuts Bunny-dayo"
         ],
         "yaxis": "y"
        },
        {
         "alignmentgroup": "True",
         "hovertemplate": "Member=Tosaki Mimi<br>Targeted Count=%{x}<br>Team Name=%{y}<br>text=%{text}<extra></extra>",
         "legendgroup": "Tosaki Mimi",
         "marker": {
          "color": "#56b4e9",
          "pattern": {
           "shape": ""
          }
         },
         "name": "Tosaki Mimi",
         "offsetgroup": "Tosaki Mimi",
         "orientation": "h",
         "showlegend": true,
         "text": [
          "Mimi"
         ],
         "textposition": "auto",
         "type": "bar",
         "x": [
          2
         ],
         "xaxis": "x",
         "y": [
          "Maple Nuts Bunny-dayo"
         ],
         "yaxis": "y"
        },
        {
         "alignmentgroup": "True",
         "hovertemplate": "Member=Higuichi Kaede<br>Targeted Count=%{x}<br>Team Name=%{y}<br>text=%{text}<extra></extra>",
         "legendgroup": "Higuichi Kaede",
         "marker": {
          "color": "#009e74",
          "pattern": {
           "shape": ""
          }
         },
         "name": "Higuichi Kaede",
         "offsetgroup": "Higuichi Kaede",
         "orientation": "h",
         "showlegend": true,
         "text": [
          "Kaede"
         ],
         "textposition": "auto",
         "type": "bar",
         "x": [
          0
         ],
         "xaxis": "x",
         "y": [
          "Maple Nuts Bunny-dayo"
         ],
         "yaxis": "y"
        },
        {
         "alignmentgroup": "True",
         "hovertemplate": "Member=Ex Albio<br>Targeted Count=%{x}<br>Team Name=%{y}<br>text=%{text}<extra></extra>",
         "legendgroup": "Ex Albio",
         "marker": {
          "color": "#e69f00",
          "pattern": {
           "shape": ""
          }
         },
         "name": "Ex Albio",
         "offsetgroup": "Ex Albio",
         "orientation": "h",
         "showlegend": true,
         "text": [
          "Albio"
         ],
         "textposition": "auto",
         "type": "bar",
         "x": [
          5
         ],
         "xaxis": "x",
         "y": [
          "AQF"
         ],
         "yaxis": "y"
        },
        {
         "alignmentgroup": "True",
         "hovertemplate": "Member=Kuzuha<br>Targeted Count=%{x}<br>Team Name=%{y}<br>text=%{text}<extra></extra>",
         "legendgroup": "Kuzuha",
         "marker": {
          "color": "#56b4e9",
          "pattern": {
           "shape": ""
          }
         },
         "name": "Kuzuha",
         "offsetgroup": "Kuzuha",
         "orientation": "h",
         "showlegend": true,
         "text": [
          "Kuzuha"
         ],
         "textposition": "auto",
         "type": "bar",
         "x": [
          2
         ],
         "xaxis": "x",
         "y": [
          "AQF"
         ],
         "yaxis": "y"
        },
        {
         "alignmentgroup": "True",
         "hovertemplate": "Member=Fuwa Minato<br>Targeted Count=%{x}<br>Team Name=%{y}<br>text=%{text}<extra></extra>",
         "legendgroup": "Fuwa Minato",
         "marker": {
          "color": "#009e74",
          "pattern": {
           "shape": ""
          }
         },
         "name": "Fuwa Minato",
         "offsetgroup": "Fuwa Minato",
         "orientation": "h",
         "showlegend": true,
         "text": [
          "Minato"
         ],
         "textposition": "auto",
         "type": "bar",
         "x": [
          1
         ],
         "xaxis": "x",
         "y": [
          "AQF"
         ],
         "yaxis": "y"
        },
        {
         "alignmentgroup": "True",
         "hovertemplate": "Member=Lauren Iroas<br>Targeted Count=%{x}<br>Team Name=%{y}<br>text=%{text}<extra></extra>",
         "legendgroup": "Lauren Iroas",
         "marker": {
          "color": "#e69f00",
          "pattern": {
           "shape": ""
          }
         },
         "name": "Lauren Iroas",
         "offsetgroup": "Lauren Iroas",
         "orientation": "h",
         "showlegend": true,
         "text": [
          "Iroas"
         ],
         "textposition": "auto",
         "type": "bar",
         "x": [
          4
         ],
         "xaxis": "x",
         "y": [
          "Team Solo NIJISANJI"
         ],
         "yaxis": "y"
        },
        {
         "alignmentgroup": "True",
         "hovertemplate": "Member=Yuhi Riri<br>Targeted Count=%{x}<br>Team Name=%{y}<br>text=%{text}<extra></extra>",
         "legendgroup": "Yuhi Riri",
         "marker": {
          "color": "#56b4e9",
          "pattern": {
           "shape": ""
          }
         },
         "name": "Yuhi Riri",
         "offsetgroup": "Yuhi Riri",
         "orientation": "h",
         "showlegend": true,
         "text": [
          "Riri"
         ],
         "textposition": "auto",
         "type": "bar",
         "x": [
          2
         ],
         "xaxis": "x",
         "y": [
          "Team Solo NIJISANJI"
         ],
         "yaxis": "y"
        },
        {
         "alignmentgroup": "True",
         "hovertemplate": "Member=Kanae<br>Targeted Count=%{x}<br>Team Name=%{y}<br>text=%{text}<extra></extra>",
         "legendgroup": "Kanae",
         "marker": {
          "color": "#009e74",
          "pattern": {
           "shape": ""
          }
         },
         "name": "Kanae",
         "offsetgroup": "Kanae",
         "orientation": "h",
         "showlegend": true,
         "text": [
          "Kanae"
         ],
         "textposition": "auto",
         "type": "bar",
         "x": [
          2
         ],
         "xaxis": "x",
         "y": [
          "Team Solo NIJISANJI"
         ],
         "yaxis": "y"
        },
        {
         "alignmentgroup": "True",
         "hovertemplate": "Member=Makaino Ririmu<br>Targeted Count=%{x}<br>Team Name=%{y}<br>text=%{text}<extra></extra>",
         "legendgroup": "Makaino Ririmu",
         "marker": {
          "color": "#e69f00",
          "pattern": {
           "shape": ""
          }
         },
         "name": "Makaino Ririmu",
         "offsetgroup": "Makaino Ririmu",
         "orientation": "h",
         "showlegend": true,
         "text": [
          "Ririmu"
         ],
         "textposition": "auto",
         "type": "bar",
         "x": [
          4
         ],
         "xaxis": "x",
         "y": [
          "Pink Brain"
         ],
         "yaxis": "y"
        },
        {
         "alignmentgroup": "True",
         "hovertemplate": "Member=Fura Kanato<br>Targeted Count=%{x}<br>Team Name=%{y}<br>text=%{text}<extra></extra>",
         "legendgroup": "Fura Kanato",
         "marker": {
          "color": "#56b4e9",
          "pattern": {
           "shape": ""
          }
         },
         "name": "Fura Kanato",
         "offsetgroup": "Fura Kanato",
         "orientation": "h",
         "showlegend": true,
         "text": [
          "Kanato"
         ],
         "textposition": "auto",
         "type": "bar",
         "x": [
          3
         ],
         "xaxis": "x",
         "y": [
          "Pink Brain"
         ],
         "yaxis": "y"
        },
        {
         "alignmentgroup": "True",
         "hovertemplate": "Member=Hanabusa Lisa<br>Targeted Count=%{x}<br>Team Name=%{y}<br>text=%{text}<extra></extra>",
         "legendgroup": "Hanabusa Lisa",
         "marker": {
          "color": "#009e74",
          "pattern": {
           "shape": ""
          }
         },
         "name": "Hanabusa Lisa",
         "offsetgroup": "Hanabusa Lisa",
         "orientation": "h",
         "showlegend": true,
         "text": [
          "Lisa"
         ],
         "textposition": "auto",
         "type": "bar",
         "x": [
          2
         ],
         "xaxis": "x",
         "y": [
          "Pink Brain"
         ],
         "yaxis": "y"
        },
        {
         "alignmentgroup": "True",
         "hovertemplate": "Member=Shirayuki Reid<br>Targeted Count=%{x}<br>Team Name=%{y}<br>text=%{text}<extra></extra>",
         "legendgroup": "Shirayuki Reid",
         "marker": {
          "color": "#e69f00",
          "pattern": {
           "shape": ""
          }
         },
         "name": "Shirayuki Reid",
         "offsetgroup": "Shirayuki Reid",
         "orientation": "h",
         "showlegend": true,
         "text": [
          "Reid"
         ],
         "textposition": "auto",
         "type": "bar",
         "x": [
          4
         ],
         "xaxis": "x",
         "y": [
          "StarReiDogs"
         ],
         "yaxis": "y"
        },
        {
         "alignmentgroup": "True",
         "hovertemplate": "Member=Aruse Inu<br>Targeted Count=%{x}<br>Team Name=%{y}<br>text=%{text}<extra></extra>",
         "legendgroup": "Aruse Inu",
         "marker": {
          "color": "#56b4e9",
          "pattern": {
           "shape": ""
          }
         },
         "name": "Aruse Inu",
         "offsetgroup": "Aruse Inu",
         "orientation": "h",
         "showlegend": true,
         "text": [
          "Inu"
         ],
         "textposition": "auto",
         "type": "bar",
         "x": [
          3
         ],
         "xaxis": "x",
         "y": [
          "StarReiDogs"
         ],
         "yaxis": "y"
        },
        {
         "alignmentgroup": "True",
         "hovertemplate": "Member=Hoshikawa Sara<br>Targeted Count=%{x}<br>Team Name=%{y}<br>text=%{text}<extra></extra>",
         "legendgroup": "Hoshikawa Sara",
         "marker": {
          "color": "#009e74",
          "pattern": {
           "shape": ""
          }
         },
         "name": "Hoshikawa Sara",
         "offsetgroup": "Hoshikawa Sara",
         "orientation": "h",
         "showlegend": true,
         "text": [
          "Sara"
         ],
         "textposition": "auto",
         "type": "bar",
         "x": [
          2
         ],
         "xaxis": "x",
         "y": [
          "StarReiDogs"
         ],
         "yaxis": "y"
        },
        {
         "alignmentgroup": "True",
         "hovertemplate": "Member=Kaminari Qpi<br>Targeted Count=%{x}<br>Team Name=%{y}<br>text=%{text}<extra></extra>",
         "legendgroup": "Kaminari Qpi",
         "marker": {
          "color": "#e69f00",
          "pattern": {
           "shape": ""
          }
         },
         "name": "Kaminari Qpi",
         "offsetgroup": "Kaminari Qpi",
         "orientation": "h",
         "showlegend": true,
         "text": [
          "Qpi"
         ],
         "textposition": "auto",
         "type": "bar",
         "x": [
          5
         ],
         "xaxis": "x",
         "y": [
          "Dekani9"
         ],
         "yaxis": "y"
        },
        {
         "alignmentgroup": "True",
         "hovertemplate": "Member=Hizaki Gamma<br>Targeted Count=%{x}<br>Team Name=%{y}<br>text=%{text}<extra></extra>",
         "legendgroup": "Hizaki Gamma",
         "marker": {
          "color": "#56b4e9",
          "pattern": {
           "shape": ""
          }
         },
         "name": "Hizaki Gamma",
         "offsetgroup": "Hizaki Gamma",
         "orientation": "h",
         "showlegend": true,
         "text": [
          "Gamma"
         ],
         "textposition": "auto",
         "type": "bar",
         "x": [
          3
         ],
         "xaxis": "x",
         "y": [
          "Dekani9"
         ],
         "yaxis": "y"
        },
        {
         "alignmentgroup": "True",
         "hovertemplate": "Member=Shinomiya Runa<br>Targeted Count=%{x}<br>Team Name=%{y}<br>text=%{text}<extra></extra>",
         "legendgroup": "Shinomiya Runa",
         "marker": {
          "color": "#009e74",
          "pattern": {
           "shape": ""
          }
         },
         "name": "Shinomiya Runa",
         "offsetgroup": "Shinomiya Runa",
         "orientation": "h",
         "showlegend": true,
         "text": [
          "Runa"
         ],
         "textposition": "auto",
         "type": "bar",
         "x": [
          2
         ],
         "xaxis": "x",
         "y": [
          "Dekani9"
         ],
         "yaxis": "y"
        },
        {
         "alignmentgroup": "True",
         "hovertemplate": "Member=Tokoyami Towa<br>Targeted Count=%{x}<br>Team Name=%{y}<br>text=%{text}<extra></extra>",
         "legendgroup": "Tokoyami Towa",
         "marker": {
          "color": "#e69f00",
          "pattern": {
           "shape": ""
          }
         },
         "name": "Tokoyami Towa",
         "offsetgroup": "Tokoyami Towa",
         "orientation": "h",
         "showlegend": true,
         "text": [
          "Towa"
         ],
         "textposition": "auto",
         "type": "bar",
         "x": [
          6
         ],
         "xaxis": "x",
         "y": [
          "Jewel Box"
         ],
         "yaxis": "y"
        },
        {
         "alignmentgroup": "True",
         "hovertemplate": "Member=Yakumo Beni<br>Targeted Count=%{x}<br>Team Name=%{y}<br>text=%{text}<extra></extra>",
         "legendgroup": "Yakumo Beni",
         "marker": {
          "color": "#56b4e9",
          "pattern": {
           "shape": ""
          }
         },
         "name": "Yakumo Beni",
         "offsetgroup": "Yakumo Beni",
         "orientation": "h",
         "showlegend": true,
         "text": [
          "Beni"
         ],
         "textposition": "auto",
         "type": "bar",
         "x": [
          4
         ],
         "xaxis": "x",
         "y": [
          "Jewel Box"
         ],
         "yaxis": "y"
        },
        {
         "alignmentgroup": "True",
         "hovertemplate": "Member=Tsuna Nekota<br>Targeted Count=%{x}<br>Team Name=%{y}<br>text=%{text}<extra></extra>",
         "legendgroup": "Tsuna Nekota",
         "marker": {
          "color": "#009e74",
          "pattern": {
           "shape": ""
          }
         },
         "name": "Tsuna Nekota",
         "offsetgroup": "Tsuna Nekota",
         "orientation": "h",
         "showlegend": true,
         "text": [
          "Nekota"
         ],
         "textposition": "auto",
         "type": "bar",
         "x": [
          3
         ],
         "xaxis": "x",
         "y": [
          "Jewel Box"
         ],
         "yaxis": "y"
        },
        {
         "alignmentgroup": "True",
         "hovertemplate": "Member=Ibrahim<br>Targeted Count=%{x}<br>Team Name=%{y}<br>text=%{text}<extra></extra>",
         "legendgroup": "Ibrahim",
         "marker": {
          "color": "#e69f00",
          "pattern": {
           "shape": ""
          }
         },
         "name": "Ibrahim",
         "offsetgroup": "Ibrahim",
         "orientation": "h",
         "showlegend": true,
         "text": [
          "Ibrahim"
         ],
         "textposition": "auto",
         "type": "bar",
         "x": [
          5
         ],
         "xaxis": "x",
         "y": [
          "Sadame Gaming"
         ],
         "yaxis": "y"
        },
        {
         "alignmentgroup": "True",
         "hovertemplate": "Member=Komori Met<br>Targeted Count=%{x}<br>Team Name=%{y}<br>text=%{text}<extra></extra>",
         "legendgroup": "Komori Met",
         "marker": {
          "color": "#56b4e9",
          "pattern": {
           "shape": ""
          }
         },
         "name": "Komori Met",
         "offsetgroup": "Komori Met",
         "orientation": "h",
         "showlegend": true,
         "text": [
          "Met"
         ],
         "textposition": "auto",
         "type": "bar",
         "x": [
          5
         ],
         "xaxis": "x",
         "y": [
          "Sadame Gaming"
         ],
         "yaxis": "y"
        },
        {
         "alignmentgroup": "True",
         "hovertemplate": "Member=Ichinose Uruha<br>Targeted Count=%{x}<br>Team Name=%{y}<br>text=%{text}<extra></extra>",
         "legendgroup": "Ichinose Uruha",
         "marker": {
          "color": "#009e74",
          "pattern": {
           "shape": ""
          }
         },
         "name": "Ichinose Uruha",
         "offsetgroup": "Ichinose Uruha",
         "orientation": "h",
         "showlegend": true,
         "text": [
          "Uruha"
         ],
         "textposition": "auto",
         "type": "bar",
         "x": [
          4
         ],
         "xaxis": "x",
         "y": [
          "Sadame Gaming"
         ],
         "yaxis": "y"
        },
        {
         "alignmentgroup": "True",
         "hovertemplate": "Member=Naraka<br>Targeted Count=%{x}<br>Team Name=%{y}<br>text=%{text}<extra></extra>",
         "legendgroup": "Naraka",
         "marker": {
          "color": "#e69f00",
          "pattern": {
           "shape": ""
          }
         },
         "name": "Naraka",
         "offsetgroup": "Naraka",
         "orientation": "h",
         "showlegend": true,
         "text": [
          "Naraka"
         ],
         "textposition": "auto",
         "type": "bar",
         "x": [
          7
         ],
         "xaxis": "x",
         "y": [
          "NIJISANJI Destroy"
         ],
         "yaxis": "y"
        },
        {
         "alignmentgroup": "True",
         "hovertemplate": "Member=Ratna Petit<br>Targeted Count=%{x}<br>Team Name=%{y}<br>text=%{text}<extra></extra>",
         "legendgroup": "Ratna Petit",
         "marker": {
          "color": "#56b4e9",
          "pattern": {
           "shape": ""
          }
         },
         "name": "Ratna Petit",
         "offsetgroup": "Ratna Petit",
         "orientation": "h",
         "showlegend": true,
         "text": [
          "Petit"
         ],
         "textposition": "auto",
         "type": "bar",
         "x": [
          6
         ],
         "xaxis": "x",
         "y": [
          "NIJISANJI Destroy"
         ],
         "yaxis": "y"
        },
        {
         "alignmentgroup": "True",
         "hovertemplate": "Member=Naruse Naru<br>Targeted Count=%{x}<br>Team Name=%{y}<br>text=%{text}<extra></extra>",
         "legendgroup": "Naruse Naru",
         "marker": {
          "color": "#009e74",
          "pattern": {
           "shape": ""
          }
         },
         "name": "Naruse Naru",
         "offsetgroup": "Naruse Naru",
         "orientation": "h",
         "showlegend": true,
         "text": [
          "Naru"
         ],
         "textposition": "auto",
         "type": "bar",
         "x": [
          4
         ],
         "xaxis": "x",
         "y": [
          "NIJISANJI Destroy"
         ],
         "yaxis": "y"
        }
       ],
       "layout": {
        "barmode": "relative",
        "font": {
         "color": "white",
         "size": 24
        },
        "height": 1000,
        "legend": {
         "title": {
          "text": "Member"
         },
         "tracegroupgap": 0
        },
        "margin": {
         "t": 60
        },
        "paper_bgcolor": "rgba(0,0,0,0)",
        "plot_bgcolor": "rgba(255,255,255,0.1)",
        "showlegend": false,
        "template": {
         "data": {
          "bar": [
           {
            "error_x": {
             "color": "#2a3f5f"
            },
            "error_y": {
             "color": "#2a3f5f"
            },
            "marker": {
             "line": {
              "color": "#E5ECF6",
              "width": 0.5
             },
             "pattern": {
              "fillmode": "overlay",
              "size": 10,
              "solidity": 0.2
             }
            },
            "type": "bar"
           }
          ],
          "barpolar": [
           {
            "marker": {
             "line": {
              "color": "#E5ECF6",
              "width": 0.5
             },
             "pattern": {
              "fillmode": "overlay",
              "size": 10,
              "solidity": 0.2
             }
            },
            "type": "barpolar"
           }
          ],
          "carpet": [
           {
            "aaxis": {
             "endlinecolor": "#2a3f5f",
             "gridcolor": "white",
             "linecolor": "white",
             "minorgridcolor": "white",
             "startlinecolor": "#2a3f5f"
            },
            "baxis": {
             "endlinecolor": "#2a3f5f",
             "gridcolor": "white",
             "linecolor": "white",
             "minorgridcolor": "white",
             "startlinecolor": "#2a3f5f"
            },
            "type": "carpet"
           }
          ],
          "choropleth": [
           {
            "colorbar": {
             "outlinewidth": 0,
             "ticks": ""
            },
            "type": "choropleth"
           }
          ],
          "contour": [
           {
            "colorbar": {
             "outlinewidth": 0,
             "ticks": ""
            },
            "colorscale": [
             [
              0,
              "#0d0887"
             ],
             [
              0.1111111111111111,
              "#46039f"
             ],
             [
              0.2222222222222222,
              "#7201a8"
             ],
             [
              0.3333333333333333,
              "#9c179e"
             ],
             [
              0.4444444444444444,
              "#bd3786"
             ],
             [
              0.5555555555555556,
              "#d8576b"
             ],
             [
              0.6666666666666666,
              "#ed7953"
             ],
             [
              0.7777777777777778,
              "#fb9f3a"
             ],
             [
              0.8888888888888888,
              "#fdca26"
             ],
             [
              1,
              "#f0f921"
             ]
            ],
            "type": "contour"
           }
          ],
          "contourcarpet": [
           {
            "colorbar": {
             "outlinewidth": 0,
             "ticks": ""
            },
            "type": "contourcarpet"
           }
          ],
          "heatmap": [
           {
            "colorbar": {
             "outlinewidth": 0,
             "ticks": ""
            },
            "colorscale": [
             [
              0,
              "#0d0887"
             ],
             [
              0.1111111111111111,
              "#46039f"
             ],
             [
              0.2222222222222222,
              "#7201a8"
             ],
             [
              0.3333333333333333,
              "#9c179e"
             ],
             [
              0.4444444444444444,
              "#bd3786"
             ],
             [
              0.5555555555555556,
              "#d8576b"
             ],
             [
              0.6666666666666666,
              "#ed7953"
             ],
             [
              0.7777777777777778,
              "#fb9f3a"
             ],
             [
              0.8888888888888888,
              "#fdca26"
             ],
             [
              1,
              "#f0f921"
             ]
            ],
            "type": "heatmap"
           }
          ],
          "heatmapgl": [
           {
            "colorbar": {
             "outlinewidth": 0,
             "ticks": ""
            },
            "colorscale": [
             [
              0,
              "#0d0887"
             ],
             [
              0.1111111111111111,
              "#46039f"
             ],
             [
              0.2222222222222222,
              "#7201a8"
             ],
             [
              0.3333333333333333,
              "#9c179e"
             ],
             [
              0.4444444444444444,
              "#bd3786"
             ],
             [
              0.5555555555555556,
              "#d8576b"
             ],
             [
              0.6666666666666666,
              "#ed7953"
             ],
             [
              0.7777777777777778,
              "#fb9f3a"
             ],
             [
              0.8888888888888888,
              "#fdca26"
             ],
             [
              1,
              "#f0f921"
             ]
            ],
            "type": "heatmapgl"
           }
          ],
          "histogram": [
           {
            "marker": {
             "pattern": {
              "fillmode": "overlay",
              "size": 10,
              "solidity": 0.2
             }
            },
            "type": "histogram"
           }
          ],
          "histogram2d": [
           {
            "colorbar": {
             "outlinewidth": 0,
             "ticks": ""
            },
            "colorscale": [
             [
              0,
              "#0d0887"
             ],
             [
              0.1111111111111111,
              "#46039f"
             ],
             [
              0.2222222222222222,
              "#7201a8"
             ],
             [
              0.3333333333333333,
              "#9c179e"
             ],
             [
              0.4444444444444444,
              "#bd3786"
             ],
             [
              0.5555555555555556,
              "#d8576b"
             ],
             [
              0.6666666666666666,
              "#ed7953"
             ],
             [
              0.7777777777777778,
              "#fb9f3a"
             ],
             [
              0.8888888888888888,
              "#fdca26"
             ],
             [
              1,
              "#f0f921"
             ]
            ],
            "type": "histogram2d"
           }
          ],
          "histogram2dcontour": [
           {
            "colorbar": {
             "outlinewidth": 0,
             "ticks": ""
            },
            "colorscale": [
             [
              0,
              "#0d0887"
             ],
             [
              0.1111111111111111,
              "#46039f"
             ],
             [
              0.2222222222222222,
              "#7201a8"
             ],
             [
              0.3333333333333333,
              "#9c179e"
             ],
             [
              0.4444444444444444,
              "#bd3786"
             ],
             [
              0.5555555555555556,
              "#d8576b"
             ],
             [
              0.6666666666666666,
              "#ed7953"
             ],
             [
              0.7777777777777778,
              "#fb9f3a"
             ],
             [
              0.8888888888888888,
              "#fdca26"
             ],
             [
              1,
              "#f0f921"
             ]
            ],
            "type": "histogram2dcontour"
           }
          ],
          "mesh3d": [
           {
            "colorbar": {
             "outlinewidth": 0,
             "ticks": ""
            },
            "type": "mesh3d"
           }
          ],
          "parcoords": [
           {
            "line": {
             "colorbar": {
              "outlinewidth": 0,
              "ticks": ""
             }
            },
            "type": "parcoords"
           }
          ],
          "pie": [
           {
            "automargin": true,
            "type": "pie"
           }
          ],
          "scatter": [
           {
            "fillpattern": {
             "fillmode": "overlay",
             "size": 10,
             "solidity": 0.2
            },
            "type": "scatter"
           }
          ],
          "scatter3d": [
           {
            "line": {
             "colorbar": {
              "outlinewidth": 0,
              "ticks": ""
             }
            },
            "marker": {
             "colorbar": {
              "outlinewidth": 0,
              "ticks": ""
             }
            },
            "type": "scatter3d"
           }
          ],
          "scattercarpet": [
           {
            "marker": {
             "colorbar": {
              "outlinewidth": 0,
              "ticks": ""
             }
            },
            "type": "scattercarpet"
           }
          ],
          "scattergeo": [
           {
            "marker": {
             "colorbar": {
              "outlinewidth": 0,
              "ticks": ""
             }
            },
            "type": "scattergeo"
           }
          ],
          "scattergl": [
           {
            "marker": {
             "colorbar": {
              "outlinewidth": 0,
              "ticks": ""
             }
            },
            "type": "scattergl"
           }
          ],
          "scattermapbox": [
           {
            "marker": {
             "colorbar": {
              "outlinewidth": 0,
              "ticks": ""
             }
            },
            "type": "scattermapbox"
           }
          ],
          "scatterpolar": [
           {
            "marker": {
             "colorbar": {
              "outlinewidth": 0,
              "ticks": ""
             }
            },
            "type": "scatterpolar"
           }
          ],
          "scatterpolargl": [
           {
            "marker": {
             "colorbar": {
              "outlinewidth": 0,
              "ticks": ""
             }
            },
            "type": "scatterpolargl"
           }
          ],
          "scatterternary": [
           {
            "marker": {
             "colorbar": {
              "outlinewidth": 0,
              "ticks": ""
             }
            },
            "type": "scatterternary"
           }
          ],
          "surface": [
           {
            "colorbar": {
             "outlinewidth": 0,
             "ticks": ""
            },
            "colorscale": [
             [
              0,
              "#0d0887"
             ],
             [
              0.1111111111111111,
              "#46039f"
             ],
             [
              0.2222222222222222,
              "#7201a8"
             ],
             [
              0.3333333333333333,
              "#9c179e"
             ],
             [
              0.4444444444444444,
              "#bd3786"
             ],
             [
              0.5555555555555556,
              "#d8576b"
             ],
             [
              0.6666666666666666,
              "#ed7953"
             ],
             [
              0.7777777777777778,
              "#fb9f3a"
             ],
             [
              0.8888888888888888,
              "#fdca26"
             ],
             [
              1,
              "#f0f921"
             ]
            ],
            "type": "surface"
           }
          ],
          "table": [
           {
            "cells": {
             "fill": {
              "color": "#EBF0F8"
             },
             "line": {
              "color": "white"
             }
            },
            "header": {
             "fill": {
              "color": "#C8D4E3"
             },
             "line": {
              "color": "white"
             }
            },
            "type": "table"
           }
          ]
         },
         "layout": {
          "annotationdefaults": {
           "arrowcolor": "#2a3f5f",
           "arrowhead": 0,
           "arrowwidth": 1
          },
          "autotypenumbers": "strict",
          "coloraxis": {
           "colorbar": {
            "outlinewidth": 0,
            "ticks": ""
           }
          },
          "colorscale": {
           "diverging": [
            [
             0,
             "#8e0152"
            ],
            [
             0.1,
             "#c51b7d"
            ],
            [
             0.2,
             "#de77ae"
            ],
            [
             0.3,
             "#f1b6da"
            ],
            [
             0.4,
             "#fde0ef"
            ],
            [
             0.5,
             "#f7f7f7"
            ],
            [
             0.6,
             "#e6f5d0"
            ],
            [
             0.7,
             "#b8e186"
            ],
            [
             0.8,
             "#7fbc41"
            ],
            [
             0.9,
             "#4d9221"
            ],
            [
             1,
             "#276419"
            ]
           ],
           "sequential": [
            [
             0,
             "#0d0887"
            ],
            [
             0.1111111111111111,
             "#46039f"
            ],
            [
             0.2222222222222222,
             "#7201a8"
            ],
            [
             0.3333333333333333,
             "#9c179e"
            ],
            [
             0.4444444444444444,
             "#bd3786"
            ],
            [
             0.5555555555555556,
             "#d8576b"
            ],
            [
             0.6666666666666666,
             "#ed7953"
            ],
            [
             0.7777777777777778,
             "#fb9f3a"
            ],
            [
             0.8888888888888888,
             "#fdca26"
            ],
            [
             1,
             "#f0f921"
            ]
           ],
           "sequentialminus": [
            [
             0,
             "#0d0887"
            ],
            [
             0.1111111111111111,
             "#46039f"
            ],
            [
             0.2222222222222222,
             "#7201a8"
            ],
            [
             0.3333333333333333,
             "#9c179e"
            ],
            [
             0.4444444444444444,
             "#bd3786"
            ],
            [
             0.5555555555555556,
             "#d8576b"
            ],
            [
             0.6666666666666666,
             "#ed7953"
            ],
            [
             0.7777777777777778,
             "#fb9f3a"
            ],
            [
             0.8888888888888888,
             "#fdca26"
            ],
            [
             1,
             "#f0f921"
            ]
           ]
          },
          "colorway": [
           "#636efa",
           "#EF553B",
           "#00cc96",
           "#ab63fa",
           "#FFA15A",
           "#19d3f3",
           "#FF6692",
           "#B6E880",
           "#FF97FF",
           "#FECB52"
          ],
          "font": {
           "color": "#2a3f5f"
          },
          "geo": {
           "bgcolor": "white",
           "lakecolor": "white",
           "landcolor": "#E5ECF6",
           "showlakes": true,
           "showland": true,
           "subunitcolor": "white"
          },
          "hoverlabel": {
           "align": "left"
          },
          "hovermode": "closest",
          "mapbox": {
           "style": "light"
          },
          "paper_bgcolor": "white",
          "plot_bgcolor": "#E5ECF6",
          "polar": {
           "angularaxis": {
            "gridcolor": "white",
            "linecolor": "white",
            "ticks": ""
           },
           "bgcolor": "#E5ECF6",
           "radialaxis": {
            "gridcolor": "white",
            "linecolor": "white",
            "ticks": ""
           }
          },
          "scene": {
           "xaxis": {
            "backgroundcolor": "#E5ECF6",
            "gridcolor": "white",
            "gridwidth": 2,
            "linecolor": "white",
            "showbackground": true,
            "ticks": "",
            "zerolinecolor": "white"
           },
           "yaxis": {
            "backgroundcolor": "#E5ECF6",
            "gridcolor": "white",
            "gridwidth": 2,
            "linecolor": "white",
            "showbackground": true,
            "ticks": "",
            "zerolinecolor": "white"
           },
           "zaxis": {
            "backgroundcolor": "#E5ECF6",
            "gridcolor": "white",
            "gridwidth": 2,
            "linecolor": "white",
            "showbackground": true,
            "ticks": "",
            "zerolinecolor": "white"
           }
          },
          "shapedefaults": {
           "line": {
            "color": "#2a3f5f"
           }
          },
          "ternary": {
           "aaxis": {
            "gridcolor": "white",
            "linecolor": "white",
            "ticks": ""
           },
           "baxis": {
            "gridcolor": "white",
            "linecolor": "white",
            "ticks": ""
           },
           "bgcolor": "#E5ECF6",
           "caxis": {
            "gridcolor": "white",
            "linecolor": "white",
            "ticks": ""
           }
          },
          "title": {
           "x": 0.05
          },
          "xaxis": {
           "automargin": true,
           "gridcolor": "white",
           "linecolor": "white",
           "ticks": "",
           "title": {
            "standoff": 15
           },
           "zerolinecolor": "white",
           "zerolinewidth": 2
          },
          "yaxis": {
           "automargin": true,
           "gridcolor": "white",
           "linecolor": "white",
           "ticks": "",
           "title": {
            "standoff": 15
           },
           "zerolinecolor": "white",
           "zerolinewidth": 2
          }
         }
        },
        "width": 1500,
        "xaxis": {
         "anchor": "y",
         "domain": [
          0,
          1
         ],
         "title": {
          "text": "Targeted Count"
         }
        },
        "yaxis": {
         "anchor": "x",
         "domain": [
          0,
          1
         ],
         "ticksuffix": "  ",
         "title": {
          "text": "Team Name"
         }
        }
       }
      }
     },
     "metadata": {},
     "output_type": "display_data"
    }
   ],
   "source": [
    "# plot a stacked bar chart for the number of times each team get hit by a drill\n",
    "fig = px.bar(df_target_count,\n",
    "             x=\"Targeted Count\",\n",
    "             y=\"Team Name\",\n",
    "             color=\"Member\",\n",
    "             #title=\"Number of times each team get hit by a drill\",\n",
    "             orientation=\"h\",\n",
    "             color_discrete_sequence=colour_palette[:3],\n",
    "             text=df_target_count[\"Member\"].apply(lambda x: x.split(\" \")[-1])\n",
    "             )\n",
    "\n",
    "fig.update_layout(height=1000,\n",
    "                  width=1500,\n",
    "                  showlegend=False,\n",
    "                  font=dict(size=24,\n",
    "                            color=\"white\"),\n",
    "                  #title_font_size=18,\n",
    "                  paper_bgcolor='rgba(0,0,0,0)',\n",
    "                  plot_bgcolor='rgba(255,255,255,0.1)'\n",
    "                  )\n",
    "\n",
    "fig.update_yaxes(ticksuffix = \"  \")\n",
    "\n",
    "fig.show()"
   ]
  }
 ],
 "metadata": {
  "kernelspec": {
   "display_name": "Python 3",
   "language": "python",
   "name": "python3"
  },
  "language_info": {
   "codemirror_mode": {
    "name": "ipython",
    "version": 3
   },
   "file_extension": ".py",
   "mimetype": "text/x-python",
   "name": "python",
   "nbconvert_exporter": "python",
   "pygments_lexer": "ipython3",
   "version": "3.10.2"
  },
  "orig_nbformat": 4
 },
 "nbformat": 4,
 "nbformat_minor": 2
}
